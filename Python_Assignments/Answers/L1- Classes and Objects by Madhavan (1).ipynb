{
 "cells": [
  {
   "cell_type": "markdown",
   "id": "8a30d880",
   "metadata": {
    "id": "8a30d880"
   },
   "source": [
    "# Assessment - 6 Gradable\n",
    "\n",
    "- Each question carries 5 or 4 marks\n",
    "- Marks will be assigned in terms of:\n",
    "    \n",
    "    **1. Expected output**\n",
    "    \n",
    "    **2. Quality and Explainability of code**\n",
    "\n",
    "    ***Go back through the script and type a comment above each line explaining in English what it does.***\n",
    "\n",
    "    **3. Copied code, if found, will result in 0 marks for that question. To avoid this make as much comments in the code to explain the approach**"
   ]
  },
  {
   "cell_type": "markdown",
   "id": "86255064",
   "metadata": {
    "id": "86255064"
   },
   "source": [
    "### 1. \n",
    "\n",
    "Write a Program to create a class 'Company' and using the class instance and print all the writable attributes of that object such as age, gender, salary, profession and designation. We take atleast 5 employees of an organization"
   ]
  },
  {
   "cell_type": "code",
   "execution_count": 5,
   "id": "c74b2cf4-9407-4d3b-8ce6-395d2493ffab",
   "metadata": {
    "tags": []
   },
   "outputs": [
    {
     "name": "stdout",
     "output_type": "stream",
     "text": [
      "Name: Madhav\n",
      "Age: 30\n",
      "Gender: Male\n",
      "Salary: 60000\n",
      "Profession: Engineer\n",
      "Designation: Software Developer \n",
      "\n",
      "Name: Bala\n",
      "Age: 28\n",
      "Gender: Female\n",
      "Salary: 55000\n",
      "Profession: Marketing\n",
      "Designation: Marketing Manager \n",
      "\n",
      "Name: Rajini\n",
      "Age: 35\n",
      "Gender: Male\n",
      "Salary: 75000\n",
      "Profession: Sales\n",
      "Designation: Sales Representative \n",
      "\n",
      "Name: Vijay\n",
      "Age: 26\n",
      "Gender: Female\n",
      "Salary: 50000\n",
      "Profession: Design\n",
      "Designation: Graphic Designer \n",
      "\n",
      "Name: Surya\n",
      "Age: 40\n",
      "Gender: Male\n",
      "Salary: 90000\n",
      "Profession: Management\n",
      "Designation: Project Manager \n",
      "\n"
     ]
    }
   ],
   "source": [
    "class Company:\n",
    "    def __init__(self,name, age, gender, salary, profession, designation):\n",
    "        self.name = name\n",
    "        self.age = age\n",
    "        self.gender = gender\n",
    "        self.salary = salary\n",
    "        self.profession = profession\n",
    "        self.designation = designation\n",
    "\n",
    "    def display(self):\n",
    "        print(f\"Name: {self.name}\")\n",
    "        print(f\"Age: {self.age}\")\n",
    "        print(f\"Gender: {self.gender}\")\n",
    "        print(f\"Salary: {self.salary}\")\n",
    "        print(f\"Profession: {self.profession}\")\n",
    "        print(f\"Designation: {self.designation} \\n\")\n",
    "        \n",
    "employee_1 = Company(\"Madhav\",30, \"Male\", 60000, \"Engineer\", \"Software Developer\")\n",
    "employee_2 = Company(\"Bala\",28, \"Female\", 55000, \"Marketing\", \"Marketing Manager\")\n",
    "employee_3 = Company(\"Rajini\",35, \"Male\", 75000, \"Sales\", \"Sales Representative\")\n",
    "employee_4 = Company(\"Vijay\",26, \"Female\", 50000, \"Design\", \"Graphic Designer\")\n",
    "employee_5 = Company(\"Surya\",40, \"Male\", 90000, \"Management\", \"Project Manager\")\n",
    "\n",
    "# Print writable attributes for each employee\n",
    "employee_1.display()\n",
    "employee_2.display()\n",
    "employee_3.display()\n",
    "employee_4.display()\n",
    "employee_5.display()\n"
   ]
  },
  {
   "cell_type": "markdown",
   "id": "df5c6917",
   "metadata": {
    "id": "df5c6917",
    "tags": []
   },
   "source": [
    "### 2. \n",
    "\n",
    "Write a program to store details of 6 customers in a text file with features of Unique Customer Id, Name, Location, Phone Number, Last Purchase Date for an ecommerce website that canbe considered for future records\n"
   ]
  },
  {
   "cell_type": "code",
   "execution_count": null,
   "id": "6aaac08a",
   "metadata": {
    "id": "6aaac08a"
   },
   "outputs": [
    {
     "name": "stdout",
     "output_type": "stream",
     "text": [
      "Enter details for Customer 1:\n"
     ]
    },
    {
     "name": "stdin",
     "output_type": "stream",
     "text": [
      "Enter Customer ID:  12\n",
      "Enter Customer Name:  sdfd\n",
      "Enter Customer Location:  dfgsdgf\n",
      "Enter Customer Phone Number:  25\n",
      "Enter Last Purchase Date:  234/34523\n"
     ]
    },
    {
     "name": "stdout",
     "output_type": "stream",
     "text": [
      "Enter details for Customer 2:\n"
     ]
    },
    {
     "name": "stdin",
     "output_type": "stream",
     "text": [
      "Enter Customer ID:  234\n",
      "Enter Customer Name:  fdsg\n",
      "Enter Customer Location:  34234\n",
      "Enter Customer Phone Number:  3421343\n",
      "Enter Last Purchase Date:  fgsg\n"
     ]
    },
    {
     "name": "stdout",
     "output_type": "stream",
     "text": [
      "Enter details for Customer 3:\n"
     ]
    }
   ],
   "source": [
    "# Define the file name to store customer details\n",
    "file_name = \"customer_details.txt\"\n",
    "\n",
    "# Function to input customer details\n",
    "def input_customer_details():\n",
    "    customer_id = input(\"Enter Customer ID: \")\n",
    "    name = input(\"Enter Customer Name: \")\n",
    "    location = input(\"Enter Customer Location: \")\n",
    "    phone_number = input(\"Enter Customer Phone Number: \")\n",
    "    last_purchase_date = input(\"Enter Last Purchase Date: \")\n",
    "\n",
    "    return f\"{customer_id},{name},{location},{phone_number},{last_purchase_date}\\n\"\n",
    "\n",
    "# Function to write customer details to the text file\n",
    "def write_to_file(data):\n",
    "    with open(file_name, \"a\") as file:\n",
    "        file.write(data)\n",
    "\n",
    "# Main program\n",
    "if __name__ == \"__main__\":\n",
    "    # Input and write details for 6 customers\n",
    "    for i in range(6):\n",
    "        print(f\"Enter details for Customer {i+1}:\")\n",
    "        customer_data = input_customer_details()\n",
    "        write_to_file(customer_data)\n",
    "\n",
    "    print(\"Customer details have been saved to the file.\")\n",
    "\n"
   ]
  },
  {
   "cell_type": "markdown",
   "id": "51f22264",
   "metadata": {
    "id": "51f22264"
   },
   "source": [
    "### 3. \n",
    "\n",
    "Build a Simple Calculator using Exception Handling (try, except) that solves 4 arithmetic operations like Addition, Subtraction, Multiplication and Division.\n"
   ]
  },
  {
   "cell_type": "code",
   "execution_count": null,
   "id": "5b52eb5c",
   "metadata": {
    "id": "5b52eb5c"
   },
   "outputs": [
    {
     "name": "stdout",
     "output_type": "stream",
     "text": [
      "Options:\n",
      "Enter 'add' for addition\n",
      "Enter 'subtract' for subtraction\n",
      "Enter 'multiply' for multiplication\n",
      "Enter 'divide' for division\n",
      "Enter 'quit' to end the program\n"
     ]
    },
    {
     "name": "stdin",
     "output_type": "stream",
     "text": [
      ":  add\n",
      "Enter first number:  12342345\n",
      "Enter second number:  2334\n"
     ]
    },
    {
     "name": "stdout",
     "output_type": "stream",
     "text": [
      "Result: 12344679.0\n",
      "Options:\n",
      "Enter 'add' for addition\n",
      "Enter 'subtract' for subtraction\n",
      "Enter 'multiply' for multiplication\n",
      "Enter 'divide' for division\n",
      "Enter 'quit' to end the program\n"
     ]
    }
   ],
   "source": [
    "def add(x, y):\n",
    "    return x + y\n",
    "\n",
    "def subtract(x, y):\n",
    "    return x - y\n",
    "\n",
    "def multiply(x, y):\n",
    "    return x * y\n",
    "\n",
    "def divide(x, y):\n",
    "    if y == 0:\n",
    "        raise ValueError(\"Division by zero is not allowed\")\n",
    "    return x / y\n",
    "\n",
    "while True:\n",
    "    print(\"Options:\")\n",
    "    print(\"Enter 'add' for addition\")\n",
    "    print(\"Enter 'subtract' for subtraction\")\n",
    "    print(\"Enter 'multiply' for multiplication\")\n",
    "    print(\"Enter 'divide' for division\")\n",
    "    print(\"Enter 'quit' to end the program\")\n",
    "\n",
    "    user_input = input(\": \")\n",
    "\n",
    "    if user_input == \"quit\":\n",
    "        break\n",
    "    elif user_input in (\"add\", \"subtract\", \"multiply\", \"divide\"):\n",
    "        try:\n",
    "            num1 = float(input(\"Enter first number: \"))\n",
    "            num2 = float(input(\"Enter second number: \"))\n",
    "            if user_input == \"add\":\n",
    "                print(\"Result:\", add(num1, num2))\n",
    "            elif user_input == \"subtract\":\n",
    "                print(\"Result:\", subtract(num1, num2))\n",
    "            elif user_input == \"multiply\":\n",
    "                print(\"Result:\", multiply(num1, num2))\n",
    "            elif user_input == \"divide\":\n",
    "                print(\"Result:\", divide(num1, num2))\n",
    "        except ValueError as e:\n",
    "            print(\"Invalid input. Please enter valid numbers.\")\n",
    "    else:\n",
    "        print(\"Invalid input. Please enter a valid option.\")\n"
   ]
  }
 ],
 "metadata": {
  "colab": {
   "provenance": []
  },
  "kernelspec": {
   "display_name": "Python 3 (ipykernel)",
   "language": "python",
   "name": "python3"
  },
  "language_info": {
   "codemirror_mode": {
    "name": "ipython",
    "version": 3
   },
   "file_extension": ".py",
   "mimetype": "text/x-python",
   "name": "python",
   "nbconvert_exporter": "python",
   "pygments_lexer": "ipython3",
   "version": "3.11.4"
  }
 },
 "nbformat": 4,
 "nbformat_minor": 5
}
