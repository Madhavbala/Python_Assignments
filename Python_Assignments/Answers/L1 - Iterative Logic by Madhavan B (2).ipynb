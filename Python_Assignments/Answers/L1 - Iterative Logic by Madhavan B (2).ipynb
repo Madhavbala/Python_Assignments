{
 "cells": [
  {
   "cell_type": "markdown",
   "id": "9acd52dd",
   "metadata": {
    "id": "9acd52dd"
   },
   "source": [
    "# Assessment - 4 Gradable\n",
    "\n",
    "- Each question carries 5 marks\n",
    "- Marks will be assigned in terms of:\n",
    "    \n",
    "    **1. Expected output**\n",
    "    \n",
    "    **2. Quality and Explainability of code**\n",
    "\n",
    "    ***Go back through the script and type a comment above each line explaining in English what it does.***\n",
    "\n",
    "    **3. Copied code, if found, will result in 0 marks for that question. To avoid this make as much comments in the code to explain the approach**"
   ]
  },
  {
   "cell_type": "markdown",
   "id": "1dd6b730",
   "metadata": {
    "id": "1dd6b730"
   },
   "source": [
    "### 1. \n",
    "\n",
    "Write a Python function that prints out the first n rows of Pascal's triangle.\n",
    "\n",
    "- Input : 5\n",
    "- Output: \n",
    "          1\n",
    "         1 1\n",
    "        1 2 1\n",
    "       1 3 3 1\n",
    "      1 4 6 4 1"
   ]
  },
  {
   "cell_type": "code",
   "execution_count": 5,
   "id": "04ae6248",
   "metadata": {
    "id": "04ae6248"
   },
   "outputs": [
    {
     "name": "stdout",
     "output_type": "stream",
     "text": [
      "Enter the number :5\n",
      "    1    \n",
      "   1 1   \n",
      "  1 2 1  \n",
      " 1 3 3 1 \n",
      "1 4 6 4 1\n"
     ]
    }
   ],
   "source": [
    "n = int(input(\"Enter the number :\" )) \n",
    "triangle = []\n",
    "for i in range(n):\n",
    "    row = [1] * (i + 1)\n",
    "    for j in range(1, i):\n",
    "        row[j] = triangle[i-1][j-1] + triangle[i-1][j]\n",
    "    triangle.append(row)\n",
    "\n",
    "# Determine the maximum width for formatting\n",
    "max_width = len(\" \".join(map(str, triangle[-1])))\n",
    "\n",
    "# Print Pascal's triangle in the specified format\n",
    "for row in triangle:\n",
    "    row_str = \" \".join(map(str, row))\n",
    "    print(row_str.center(max_width))"
   ]
  },
  {
   "cell_type": "markdown",
   "id": "ffc26930",
   "metadata": {
    "id": "ffc26930"
   },
   "source": [
    "### 2. \n",
    "\n",
    "Write a function to print following pattern by accepting n value from user\n",
    "\n",
    "    1  \n",
    "    2  4  \n",
    "    3  6  9  \n",
    "    4  8  12  16  \n",
    "    5  10  15  20  25  \n",
    "    6  12  18  24  30  36  \n",
    "    7  14  21  28  35  42  49  \n",
    "    8  16  24  32  40  48  56  64 \n",
    "    \n",
    "Hint:\n",
    "- n is 8\n"
   ]
  },
  {
   "cell_type": "code",
   "execution_count": 2,
   "id": "dbaf2f2a",
   "metadata": {
    "id": "dbaf2f2a"
   },
   "outputs": [
    {
     "name": "stdout",
     "output_type": "stream",
     "text": [
      "Enter the value of n: 8\n",
      "1  \n",
      "2  4  \n",
      "3  6  9  \n",
      "4  8  12  16  \n",
      "5  10  15  20  25  \n",
      "6  12  18  24  30  36  \n",
      "7  14  21  28  35  42  49  \n",
      "8  16  24  32  40  48  56  64  \n"
     ]
    }
   ],
   "source": [
    "n = int(input(\"Enter the value of n: \"))\n",
    "\n",
    "for i in range(1, n + 1):\n",
    "    for j in range(1, i + 1):\n",
    "        print(i * j, end=\"  \")\n",
    "    print()"
   ]
  },
  {
   "cell_type": "markdown",
   "id": "eec7fc6c",
   "metadata": {
    "id": "eec7fc6c"
   },
   "source": [
    "### 3. \n",
    "\n",
    "Write a program to print prime numbers from 1 to 100\n"
   ]
  },
  {
   "cell_type": "code",
   "execution_count": 7,
   "id": "4de40729",
   "metadata": {
    "id": "4de40729"
   },
   "outputs": [
    {
     "name": "stdout",
     "output_type": "stream",
     "text": [
      "Prime numbers from 1 to 100:\n",
      "2 3 5 7 11 13 17 19 23 29 31 37 41 43 47 53 59 61 67 71 73 79 83 89 97 "
     ]
    }
   ],
   "source": [
    "#numbers from 1 to 100\n",
    "print(\"Prime numbers from 1 to 100:\")\n",
    "for number in range(1, 101):\n",
    "    if number > 1:\n",
    "        is_prime = True\n",
    "        for i in range(2, int(number ** 0.5) + 1):\n",
    "            if number % i == 0:\n",
    "                is_prime = False\n",
    "                break\n",
    "        if is_prime:\n",
    "            print(number, end=\" \")\n"
   ]
  },
  {
   "cell_type": "markdown",
   "id": "6739aeef",
   "metadata": {
    "id": "6739aeef"
   },
   "source": [
    "### 4. \n",
    "\n",
    "Write a program to find given number is palindrome or not\n",
    "\n",
    "Hint:\n",
    "- 121 is palindrome\n",
    "- 123 is not palindrome"
   ]
  },
  {
   "cell_type": "code",
   "execution_count": 10,
   "id": "1ec4e63e",
   "metadata": {
    "id": "1ec4e63e"
   },
   "outputs": [
    {
     "name": "stdout",
     "output_type": "stream",
     "text": [
      "Enter the name to find palindrome : 121\n",
      "121 is a palindrome.\n"
     ]
    }
   ],
   "source": [
    "input_string = input(\"Enter the name to find palindrome : \")  # Replace with the string you want to check\n",
    "\n",
    "# Remove spaces and convert to lowercase (optional)\n",
    "cleaned_string = input_string.replace(\" \", \"\").lower()\n",
    "\n",
    "# Compare the string with its reverse\n",
    "if cleaned_string == cleaned_string[::-1]:\n",
    "    print(f\"{input_string} is a palindrome.\")\n",
    "else:\n",
    "    print(f\"{input_string} is not a palindrome.\")\n"
   ]
  },
  {
   "cell_type": "markdown",
   "id": "af46e819",
   "metadata": {
    "id": "af46e819"
   },
   "source": [
    "### 5.\n",
    "\n",
    "Write a program to iterate the first 10 numbers and in each iteration, print the sum of the current and previous number.\n",
    "\n",
    "- Current Number 0 Previous Number  0  Sum:  0\n",
    "- Current Number 1 Previous Number  0  Sum:  1 and so on"
   ]
  },
  {
   "cell_type": "code",
   "execution_count": 13,
   "id": "830a0664",
   "metadata": {
    "id": "830a0664"
   },
   "outputs": [
    {
     "name": "stdout",
     "output_type": "stream",
     "text": [
      "Current Number : [0] Previous Number : [0] Sum : [0]\n",
      "Current Number : [1] Previous Number : [0] Sum : [1]\n",
      "Current Number : [2] Previous Number : [1] Sum : [3]\n",
      "Current Number : [3] Previous Number : [2] Sum : [5]\n",
      "Current Number : [4] Previous Number : [3] Sum : [7]\n",
      "Current Number : [5] Previous Number : [4] Sum : [9]\n",
      "Current Number : [6] Previous Number : [5] Sum : [11]\n",
      "Current Number : [7] Previous Number : [6] Sum : [13]\n",
      "Current Number : [8] Previous Number : [7] Sum : [15]\n",
      "Current Number : [9] Previous Number : [8] Sum : [17]\n"
     ]
    }
   ],
   "source": [
    "previous_number = 0\n",
    "\n",
    "for current_number in range(10):\n",
    "    sum_of_numbers = current_number + previous_number\n",
    "    print(f\"Current Number : [{current_number}] Previous Number : [{previous_number}] Sum : [{sum_of_numbers}]\")\n",
    "    previous_number = current_number"
   ]
  }
 ],
 "metadata": {
  "colab": {
   "provenance": []
  },
  "kernelspec": {
   "display_name": "Python 3 (ipykernel)",
   "language": "python",
   "name": "python3"
  },
  "language_info": {
   "codemirror_mode": {
    "name": "ipython",
    "version": 3
   },
   "file_extension": ".py",
   "mimetype": "text/x-python",
   "name": "python",
   "nbconvert_exporter": "python",
   "pygments_lexer": "ipython3",
   "version": "3.9.7"
  }
 },
 "nbformat": 4,
 "nbformat_minor": 5
}
