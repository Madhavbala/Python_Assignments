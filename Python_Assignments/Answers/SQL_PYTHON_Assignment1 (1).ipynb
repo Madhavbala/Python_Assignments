{
 "cells": [
  {
   "cell_type": "code",
   "execution_count": 1,
   "id": "0fa3fceb-b485-4f68-8fbf-a16f3cc9cbb6",
   "metadata": {
    "tags": []
   },
   "outputs": [
    {
     "name": "stdout",
     "output_type": "stream",
     "text": [
      "Requirement already satisfied: mysql-connector-python in c:\\users\\systems\\anaconda3\\lib\\site-packages (8.1.0)\n",
      "Requirement already satisfied: protobuf<=4.21.12,>=4.21.1 in c:\\users\\systems\\anaconda3\\lib\\site-packages (from mysql-connector-python) (4.21.12)\n"
     ]
    }
   ],
   "source": [
    "!pip install mysql-connector-python"
   ]
  },
  {
   "cell_type": "code",
   "execution_count": 15,
   "id": "920f2a14-f73f-42db-910e-25db424e52cf",
   "metadata": {
    "tags": []
   },
   "outputs": [],
   "source": [
    "import mysql.connector\n",
    "def mysql_connection(user, password, host):\n",
    "    mydb = mysql.connector.connect(user=user, password=password, host=host)\n",
    "    return mydb\n",
    "mydb = mysql_connection('root', 'Evil@12345', 'localhost')"
   ]
  },
  {
   "cell_type": "code",
   "execution_count": 16,
   "id": "9b18b739-1ae8-4a55-88e4-b67b064377fe",
   "metadata": {
    "tags": []
   },
   "outputs": [],
   "source": [
    "mycursor = mydb.cursor()"
   ]
  },
  {
   "cell_type": "code",
   "execution_count": null,
   "id": "f71f7b91-78c9-4972-9a40-1a5b9ec6e656",
   "metadata": {},
   "outputs": [],
   "source": [
    "mycursor.execute(\"DROP DATABASE PYTHON_SQL_Assignment1\")"
   ]
  },
  {
   "cell_type": "code",
   "execution_count": 4,
   "id": "af69cbe0-efb3-4f36-9807-9bb407f99912",
   "metadata": {
    "tags": []
   },
   "outputs": [],
   "source": [
    "mycursor.execute(\"Create DATABASE PYTHON_SQL_Assignment1\")"
   ]
  },
  {
   "cell_type": "code",
   "execution_count": 5,
   "id": "327ea6a4-1339-473e-b09a-93d054a87af3",
   "metadata": {
    "tags": []
   },
   "outputs": [],
   "source": [
    "def create_employee_table():\n",
    "    create_query = '''CREATE TABLE PYTHON_SQL_Assignment1.employee (\n",
    "        emp_id INT PRIMARY KEY,\n",
    "        f_name VARCHAR(20) NOT NULL,\n",
    "        l_name VARCHAR(20) NOT NULL,\n",
    "        age INT NOT NULL,\n",
    "        gender VARCHAR(20) NOT NULL,\n",
    "        salary INT NOT NULL,\n",
    "        city VARCHAR(20) NOT NULL,\n",
    "        dept VARCHAR(20) NOT NULL\n",
    "    )'''\n",
    "\n",
    "    mycursor.execute(create_query)\n",
    "    mydb.close()\n",
    "create_employee_table()"
   ]
  },
  {
   "cell_type": "code",
   "execution_count": 7,
   "id": "d1971876-b4e0-486a-bc2b-ce0fb63a55ca",
   "metadata": {
    "tags": []
   },
   "outputs": [],
   "source": [
    "def insert_employee_data(data):\n",
    "    insert_query = \"INSERT INTO PYTHON_SQL_Assignment1.employee (emp_id, f_name, l_name, age, gender, salary, city, dept) VALUES (%s, %s, %s, %s, %s, %s, %s, %s)\"\n",
    "    mycursor.executemany(insert_query, data)\n",
    "    mydb.commit()\n",
    "data = [\n",
    "    (1, \"Madhav\", \"Bala\", 30, \"Male\", 50000, \"N York\", \"HR\"),\n",
    "    (2, \"Aakash\", \"Nair\", 30, \"Male\", 50000, \"New York\", \"HR\"),\n",
    "    (3, \"Mathu\", \"Mitha\", 35, \"Female\", 60000, \"Los Angeles\", \"Finance\")\n",
    "]\n",
    "insert_employee_data(data)"
   ]
  },
  {
   "cell_type": "code",
   "execution_count": 10,
   "id": "198255ca-66e8-40de-9105-6d7ddeb345d6",
   "metadata": {
    "tags": []
   },
   "outputs": [],
   "source": [
    "def update_query():\n",
    "    update_query = \"UPDATE PYTHON_SQL_Assignment1.employee SET salary = %s WHERE emp_id = %s\"\n",
    "    update_data = (55000, 1)\n",
    "    mycursor.execute(update_query, update_data)\n",
    "    mydb.commit()\n",
    "update_query()"
   ]
  },
  {
   "cell_type": "code",
   "execution_count": 12,
   "id": "80bf33d7-3314-4bb8-8e7f-03b0cb8131b5",
   "metadata": {
    "tags": []
   },
   "outputs": [],
   "source": [
    "def delete_query():\n",
    "    delete_query = 'DELETE FROM PYTHON_SQL_Assignment1.employee WHERE dept = \"Finance\"'\n",
    "    mycursor.execute(delete_query)\n",
    "    mydb.commit()\n",
    "delete_query()"
   ]
  },
  {
   "cell_type": "code",
   "execution_count": null,
   "id": "95efaee1-32ff-4890-b32e-1464d238f9a7",
   "metadata": {},
   "outputs": [],
   "source": []
  }
 ],
 "metadata": {
  "kernelspec": {
   "display_name": "Python 3 (ipykernel)",
   "language": "python",
   "name": "python3"
  },
  "language_info": {
   "codemirror_mode": {
    "name": "ipython",
    "version": 3
   },
   "file_extension": ".py",
   "mimetype": "text/x-python",
   "name": "python",
   "nbconvert_exporter": "python",
   "pygments_lexer": "ipython3",
   "version": "3.11.4"
  }
 },
 "nbformat": 4,
 "nbformat_minor": 5
}
