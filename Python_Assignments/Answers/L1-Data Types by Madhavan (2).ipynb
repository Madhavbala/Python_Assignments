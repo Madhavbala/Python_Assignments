{
 "cells": [
  {
   "cell_type": "markdown",
   "id": "9cacd9e4",
   "metadata": {
    "id": "9cacd9e4"
   },
   "source": [
    "# Data Types & Basic Programs\n",
    "- Write solution of each question in the cell given below the corresponsing question."
   ]
  },
  {
   "cell_type": "markdown",
   "id": "a36a3683",
   "metadata": {
    "id": "a36a3683"
   },
   "source": [
    "#### 1. Write a program to take principal amount, rate and interest as input and calculate simple interest."
   ]
  },
  {
   "cell_type": "code",
   "execution_count": 42,
   "id": "iyGa2yN7bkZL",
   "metadata": {
    "colab": {
     "base_uri": "https://localhost:8080/",
     "height": 130
    },
    "executionInfo": {
     "elapsed": 8,
     "status": "error",
     "timestamp": 1682422665028,
     "user": {
      "displayName": "saylee morey",
      "userId": "14399473198527863861"
     },
     "user_tz": -330
    },
    "id": "iyGa2yN7bkZL",
    "outputId": "43c86045-073b-48a6-b7fb-8895e19b4b9c"
   },
   "outputs": [
    {
     "name": "stdout",
     "output_type": "stream",
     "text": [
      "The pricipal is  9\n",
      "The time period is 8\n",
      "The rate of interest is 9\n",
      "The Simple Interest is 6.48\n"
     ]
    },
    {
     "data": {
      "text/plain": [
       "6.48"
      ]
     },
     "execution_count": 42,
     "metadata": {},
     "output_type": "execute_result"
    }
   ],
   "source": [
    "def simple_interest(p, t, r):\n",
    "    print('The pricipal is ', p)\n",
    "    print('The time period is', t)\n",
    "    print('The rate of interest is', r)\n",
    "    si= (p*t*r)/100\n",
    "    print('The Simple Interest is', si)\n",
    "    return si\n",
    "simple_interest(9,8,9)"
   ]
  },
  {
   "cell_type": "markdown",
   "id": "3a9994e0",
   "metadata": {
    "id": "3a9994e0"
   },
   "source": [
    "#### 2. Write a program that takes a string as input and prints the number of words in the string."
   ]
  },
  {
   "cell_type": "code",
   "execution_count": 43,
   "id": "9VbTZFFQfHCm",
   "metadata": {
    "id": "9VbTZFFQfHCm"
   },
   "outputs": [
    {
     "name": "stdout",
     "output_type": "stream",
     "text": [
      "Enter the String Here : Madhavan\n",
      "Number of words in this string :  8\n"
     ]
    }
   ],
   "source": [
    "string = input(\"Enter the String Here : \")\n",
    "print(\"Number of words in this string : \",len(string))"
   ]
  },
  {
   "cell_type": "markdown",
   "id": "8a8d5e27",
   "metadata": {
    "id": "8a8d5e27"
   },
   "source": [
    "#### 3. Write a program to take a list of numbers as input (in a single line) and print the sum, avg, max and min elements."
   ]
  },
  {
   "cell_type": "code",
   "execution_count": 6,
   "id": "OUlGO6fiVlU7",
   "metadata": {
    "id": "OUlGO6fiVlU7"
   },
   "outputs": [
    {
     "name": "stdout",
     "output_type": "stream",
     "text": [
      "Enter a numbers  by spaces: 1 2 3 4 5\n",
      "Sum: 15.0\n",
      "Average: 3.0\n",
      "Maximum: 5.0\n",
      "Minimum: 1.0\n"
     ]
    }
   ],
   "source": [
    "numbers = input(\"Enter a numbers by spaces: \")\n",
    "real_num = [float(num) for num in numbers.split()]\n",
    "print(\"Sum:\", sum(real_num))\n",
    "print(\"Average:\", sum(real_num) / len(real_num))\n",
    "print(\"Maximum:\", max(real_num))\n",
    "print(\"Minimum:\", min(real_num))"
   ]
  },
  {
   "cell_type": "markdown",
   "id": "17dbd6e8",
   "metadata": {
    "id": "17dbd6e8"
   },
   "source": [
    "#### 4. Write a program to take the marks of 3 students in five subjects each as a list (one list for each input) as input and print the average score of each student.."
   ]
  },
  {
   "cell_type": "code",
   "execution_count": 68,
   "id": "BTd2sM7i9sui",
   "metadata": {
    "id": "BTd2sM7i9sui"
   },
   "outputs": [
    {
     "name": "stdout",
     "output_type": "stream",
     "text": [
      "Enter the number of students  : 2\n",
      "Enter the roll number : 1001\n",
      "Enter the student Tamil Mark : 12\n",
      "Enter the student English Mark : 23\n",
      "Enter the student Maths Mark : 34\n",
      "Enter the student science Mark : 45\n",
      "Enter the student social Mark : 56\n",
      "Average score of 1001 is  34.0\n",
      "Enter the roll number : 2002\n",
      "Enter the student Tamil Mark : 24\n",
      "Enter the student English Mark : 45\n",
      "Enter the student Maths Mark : 67\n",
      "Enter the student science Mark : 54\n",
      "Enter the student social Mark : 23\n",
      "Average score of 2002 is  42.6\n"
     ]
    }
   ],
   "source": [
    "num_of_stud = int(input(\"Enter the number of students  : \"))\n",
    "for num in range(num_of_stud):\n",
    "    roll_num = int(input(\"Enter the roll number : \"))\n",
    "    tamil = float(input(\"Enter the student Tamil Mark : \"))\n",
    "    english = float(input(\"Enter the student English Mark : \"))\n",
    "    maths = float(input(\"Enter the student Maths Mark : \"))\n",
    "    science = float(input(\"Enter the student science Mark : \"))\n",
    "    social = float(input(\"Enter the student social Mark : \"))\n",
    "    average = (tamil + english + maths + science + social) / 5\n",
    "    print(f\"Average score of {roll_num} is \", average)"
   ]
  },
  {
   "cell_type": "markdown",
   "id": "39fb8526",
   "metadata": {
    "id": "39fb8526"
   },
   "source": [
    "#### 5. Write a program to take a list as input containing results of 10 coin tosses as 'H' or 'T'. Jon gets a point for each 'T' and Tom gets a point for each 'H'. print the points recieved by both."
   ]
  },
  {
   "cell_type": "code",
   "execution_count": 45,
   "id": "Ijvfc63fHr8B",
   "metadata": {
    "id": "Ijvfc63fHr8B"
   },
   "outputs": [
    {
     "name": "stdout",
     "output_type": "stream",
     "text": [
      "Enter the results of 10 coin tosses only [H/T] : HHHHHTTTTT\n",
      "Jon's points: 5\n",
      "Tom's points: 5\n"
     ]
    }
   ],
   "source": [
    "toss_results = input(\"Enter the results of 10 coin tosses only [H/T] : \")\n",
    "Jon_points = 0\n",
    "Tom_points = 0\n",
    "for result in toss_results:\n",
    "    if result == 'H':\n",
    "        Tom_points += 1\n",
    "    elif result == 'T':\n",
    "        Jon_points += 1\n",
    "print(\"Jon's points:\", Jon_points)\n",
    "print(\"Tom's points:\", Tom_points)"
   ]
  },
  {
   "cell_type": "markdown",
   "id": "4a6dc391",
   "metadata": {
    "id": "4a6dc391"
   },
   "source": [
    "#### 6. Take two numbers as input and print the result after swapping them. (Without using multiple assignment and any extra variable)."
   ]
  },
  {
   "cell_type": "code",
   "execution_count": 37,
   "id": "oiSoXznqZbC_",
   "metadata": {
    "id": "oiSoXznqZbC_"
   },
   "outputs": [
    {
     "name": "stdout",
     "output_type": "stream",
     "text": [
      "Enter the first number  : 1\n",
      "Enter the second number : 2\n",
      "Before swapping first Number : 1 second Number : 2\n",
      "After swapping first Number : 2 second Number : 1\n"
     ]
    }
   ],
   "source": [
    "num1 = int(input(\"Enter the first number  : \"))\n",
    "num2 = int(input(\"Enter the second number : \"))\n",
    "print(f\"Before swapping first Number : {num1} second Number : {num2}\")\n",
    "num1,num2 = num2, num1\n",
    "print(f\"After swapping first Number : {num1} second Number : {num2}\")"
   ]
  },
  {
   "cell_type": "markdown",
   "id": "b0059e36",
   "metadata": {
    "id": "b0059e36"
   },
   "source": [
    "#### 7. Take a list as input in a single line containing 10 numbers as marks out of 100. The even positions in the list are marks of Tom and the odd positions are the marks of Jon. Calculate the average marks of both."
   ]
  },
  {
   "cell_type": "code",
   "execution_count": 38,
   "id": "dzK-bSIM6rh6",
   "metadata": {
    "id": "dzK-bSIM6rh6"
   },
   "outputs": [
    {
     "name": "stdout",
     "output_type": "stream",
     "text": [
      "Enter a numbers by spaces: 10 20 10 20 10 20 10 20 10 20\n",
      "Average marks for Tom: 10.0\n",
      "Average marks for Jon: 20.0\n"
     ]
    }
   ],
   "source": [
    "total_marks = input(\"Enter a numbers by spaces: \")\n",
    "mark = [float(num) for num in total_marks.split()]\n",
    "tom_marks = mark[::2]  \n",
    "jon_marks = mark[1::2]  \n",
    "avg_tom_marks = sum(tom_marks) / len(tom_marks)\n",
    "avg_jon_marks = sum(jon_marks) / len(jon_marks)\n",
    "print(\"Average marks for Tom:\", avg_tom_marks)\n",
    "print(\"Average marks for Jon:\", avg_jon_marks)"
   ]
  },
  {
   "cell_type": "markdown",
   "id": "f07dab7c",
   "metadata": {
    "id": "f07dab7c"
   },
   "source": [
    "#### 8. Take a string and a character as input. Print the result having the character between each word of the given string."
   ]
  },
  {
   "cell_type": "code",
   "execution_count": 50,
   "id": "Bak8JEWdAAFv",
   "metadata": {
    "id": "Bak8JEWdAAFv"
   },
   "outputs": [
    {
     "name": "stdout",
     "output_type": "stream",
     "text": [
      "Enter a string sepratze b (,): M,A,D,D,Y,S\n",
      "Enter a character: z\n",
      "Result: MzAzDzDzYzS\n"
     ]
    }
   ],
   "source": [
    "input_string = input(\"Enter a string sepratze b (,): \")\n",
    "input_char = input(\"Enter a character: \")\n",
    "words = input_string.split(',')\n",
    "result = input_char.join(words)\n",
    "print(\"Result:\", result)"
   ]
  },
  {
   "cell_type": "markdown",
   "id": "a45320b7",
   "metadata": {
    "id": "a45320b7"
   },
   "source": [
    "#### 9. Create a dictionary having three items. Key of each item is the name of a student, value associated with each key is a list of marks in five subjects. Given this dictionary print the average score of each student."
   ]
  },
  {
   "cell_type": "code",
   "execution_count": 58,
   "id": "_WpSWzXdLyri",
   "metadata": {
    "id": "_WpSWzXdLyri"
   },
   "outputs": [
    {
     "name": "stdout",
     "output_type": "stream",
     "text": [
      "Average score for Karan: 30.0\n",
      "Average score for Madhav: 100.0\n",
      "Average score for Ajay: 44.0\n"
     ]
    }
   ],
   "source": [
    "students = {'Karan':[10,20,30,40,50], 'Madhav' : [100,100,100,100,100] , 'Ajay': [10,20,50,60,80]}\n",
    "for student, marks in students.items():\n",
    "    average = sum(marks) / len(marks)\n",
    "    print(f\"Average score for {student}: {average}\")"
   ]
  },
  {
   "cell_type": "markdown",
   "id": "aba63bd1",
   "metadata": {
    "id": "aba63bd1"
   },
   "source": [
    "#### 10. Take a string as input(may contain repetitive words), print a list consisting of unique words from the given string."
   ]
  },
  {
   "cell_type": "code",
   "execution_count": 67,
   "id": "Wrc5hOBIF-ww",
   "metadata": {
    "id": "Wrc5hOBIF-ww"
   },
   "outputs": [
    {
     "name": "stdout",
     "output_type": "stream",
     "text": [
      "Enter the string : maaad\n",
      "['a', 'd', 'm']\n"
     ]
    }
   ],
   "source": [
    "strings = input(\"Enter the string : \")\n",
    "unique_words , ls_string = set(strings) ,list(unique_words)\n",
    "print(ls_string)"
   ]
  }
 ],
 "metadata": {
  "colab": {
   "provenance": []
  },
  "kernelspec": {
   "display_name": "Python 3 (ipykernel)",
   "language": "python",
   "name": "python3"
  },
  "language_info": {
   "codemirror_mode": {
    "name": "ipython",
    "version": 3
   },
   "file_extension": ".py",
   "mimetype": "text/x-python",
   "name": "python",
   "nbconvert_exporter": "python",
   "pygments_lexer": "ipython3",
   "version": "3.9.12"
  }
 },
 "nbformat": 4,
 "nbformat_minor": 5
}
