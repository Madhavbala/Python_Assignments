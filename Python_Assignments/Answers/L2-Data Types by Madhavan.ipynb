{
 "cells": [
  {
   "cell_type": "markdown",
   "id": "5fad3b2a",
   "metadata": {
    "id": "5fad3b2a"
   },
   "source": [
    "# Assessment - 2 Gradable\n",
    "\n",
    "- Each question carries 3 marks\n",
    "- Marks will be assigned in terms of:\n",
    "    \n",
    "    **1. Expected output**\n",
    "    \n",
    "    **2. Quality and Explainability of code**\n",
    "\n",
    "    ***Go back through the script and type a comment above each line explaining in English what it does.***\n",
    "\n",
    "    **3. Copied code, if found, will result in 0 marks for that question. To avoid this make as much comments in the code to explain the approach**"
   ]
  },
  {
   "cell_type": "markdown",
   "id": "03363a58",
   "metadata": {
    "id": "03363a58"
   },
   "source": [
    "### 1.\n",
    "\n",
    "Write a Python program to perform following tasks on a list\n",
    "\n",
    "<ol>\n",
    "    <li>Create an empty list with name l1</li>\n",
    "    <li>Add atleast 5 number to the l1</li>\n",
    "    <li>Add 100 at 2<sup>nd</sup> position</li>\n",
    "    <li>Add 1000 at front of the l1</li>\n",
    "    <li>Delete element at 3<sup>rd</sup> position</li>\n",
    "    <li>Display elements at even position</li>\n",
    "    <li>Display elements in reverse order</li>\n",
    "</ol>"
   ]
  },
  {
   "cell_type": "code",
   "execution_count": 20,
   "id": "73d7418b",
   "metadata": {
    "id": "73d7418b"
   },
   "outputs": [
    {
     "name": "stdout",
     "output_type": "stream",
     "text": [
      "Enter a number's : 1\n",
      "Enter a number's : 2\n",
      "Enter a number's : 3\n",
      "Enter a number's : 4\n",
      "Enter a number's : 5\n",
      "[1, 2, 3, 4, 5]\n"
     ]
    }
   ],
   "source": [
    "l1 = []\n",
    "count = 5\n",
    "for i in range(count): #use range to get the num of inputs\n",
    "    num = int(input(\"Enter a number's : \")) #Get input from the user \n",
    "    l1.append(num) # use of append here is to store the inputs into list \n",
    "print(l1)"
   ]
  },
  {
   "cell_type": "code",
   "execution_count": 21,
   "id": "57902490",
   "metadata": {},
   "outputs": [
    {
     "name": "stdout",
     "output_type": "stream",
     "text": [
      "[1, 100, 2, 3, 4, 5]\n"
     ]
    }
   ],
   "source": [
    "l1.insert(1, 100) #use insert parameter to insert a value on specific index syntax [insert(index posotion ,value)]\n",
    "print(l1)"
   ]
  },
  {
   "cell_type": "code",
   "execution_count": 22,
   "id": "8d13ecf0",
   "metadata": {},
   "outputs": [
    {
     "name": "stdout",
     "output_type": "stream",
     "text": [
      "[1000, 1, 100, 2, 3, 4, 5]\n"
     ]
    }
   ],
   "source": [
    "l1.insert(0, 1000)\n",
    "print(l1)"
   ]
  },
  {
   "cell_type": "code",
   "execution_count": 23,
   "id": "c037a092",
   "metadata": {},
   "outputs": [
    {
     "name": "stdout",
     "output_type": "stream",
     "text": [
      "[1000, 1, 2, 3, 4, 5]\n"
     ]
    }
   ],
   "source": [
    "del l1[2] # del value using del keyword syntax [variable[index posotion]]\n",
    "print(l1)"
   ]
  },
  {
   "cell_type": "code",
   "execution_count": 26,
   "id": "bd6836e3",
   "metadata": {},
   "outputs": [
    {
     "name": "stdout",
     "output_type": "stream",
     "text": [
      "Elements at even positions: [1, 3, 5]\n",
      "Elements in reverse order: [5, 4, 3, 2, 1, 1000]\n"
     ]
    }
   ],
   "source": [
    "print(\"Elements at even positions:\", l1[1::2]) #1 --> starting index number . 2 --> next (jump)\n",
    "print(\"Elements in reverse order:\", l1[::-1]) # -1 --> to revere the list using -1 at the end"
   ]
  },
  {
   "cell_type": "markdown",
   "id": "3d5efe73",
   "metadata": {
    "id": "3d5efe73"
   },
   "source": [
    "### 2. \n",
    "\n",
    "Grab ``StarAgile`` from the following Dictionaries\n",
    "\n",
    "d_difficult = {'k1':[{'nest_key':['this is deep',['StarAgile']]}]}\n",
    "\n",
    "d_irritating = {'k1':[1,2,{'k2':['this is not easy',{'VeryIrriating':[1,2,['StarAgile']]}]}]}"
   ]
  },
  {
   "cell_type": "code",
   "execution_count": 34,
   "id": "9fb35ce9",
   "metadata": {
    "id": "9fb35ce9"
   },
   "outputs": [
    {
     "name": "stdout",
     "output_type": "stream",
     "text": [
      "Dict 1  StarAgile\n",
      "Dict 2  StarAgile\n"
     ]
    }
   ],
   "source": [
    "dict1 = {'k1': [{'nest_key': ['this is deep', ['StarAgile']]}]}\n",
    "result1 = dict1['k1'][0]['nest_key'][1][0]\n",
    "print(\"Dict 1 \",result) \n",
    "dict2 = {'k1':[1,2,{'k2':['this is not easy',{'VeryIrriating':[1,2,['StarAgile']]}]}]}\n",
    "# result2 = dict2['k1'][1]\n",
    "result2 = dict2['k1'][2]['k2'][1]['VeryIrriating'][2][0]\n",
    "print(\"Dict 2 \",result2)"
   ]
  },
  {
   "cell_type": "markdown",
   "id": "0540a188",
   "metadata": {
    "id": "0540a188"
   },
   "source": [
    "### 3.\n",
    "\n",
    "Write a program to accept a string from the user and display characters that are present at an even index number.\n",
    "\n",
    "For example, str = \"judgemental\" so you should display ‘j’, ‘d’, ‘e’, ‘e’, ‘t’, ‘l’."
   ]
  },
  {
   "cell_type": "code",
   "execution_count": 54,
   "id": "21f5b9dd",
   "metadata": {
    "id": "21f5b9dd"
   },
   "outputs": [
    {
     "name": "stdout",
     "output_type": "stream",
     "text": [
      "Enter the string : madhavan\n",
      "m, d, a, a, "
     ]
    }
   ],
   "source": [
    "inpu_str = input(\"Enter the string : \")\n",
    "# string = inpu_str.split(',')\n",
    "# print(string)\n",
    "for i,string in enumerate(inpu_str):\n",
    "    if i % 2 == 0 :\n",
    "        print(string, end=', ')"
   ]
  },
  {
   "cell_type": "markdown",
   "id": "e0884cde",
   "metadata": {
    "id": "e0884cde"
   },
   "source": [
    "### 4. \n",
    "\n",
    "Convert the Float Value of '3.8' into Integer, Complex, Binary and Hexidecimal format"
   ]
  },
  {
   "cell_type": "code",
   "execution_count": 60,
   "id": "99555c16",
   "metadata": {
    "id": "99555c16"
   },
   "outputs": [
    {
     "name": "stdout",
     "output_type": "stream",
     "text": [
      "Enter the float value : 3.8\n",
      "Integer : 3 , Complex : (3.8+0j) , Binary 0b11 , Hexidecimal 0x3 \n"
     ]
    }
   ],
   "source": [
    "float_value = float(input(\"Enter the float value : \")) #get the input from the user\n",
    "int_value = int(float_value)  # Convert to integer\n",
    "complex_value = complex(float_value) # Convert to complex\n",
    "binary_value = bin(int_value) # Convert to binary\n",
    "hex_value = hex(int_value)# Convert to hexadecimal\n",
    "print(f\"Integer : {int_value} , Complex : {complex_value} , Binary {binary_value} , Hexidecimal {hex_value} \")"
   ]
  },
  {
   "cell_type": "markdown",
   "id": "25187f2c",
   "metadata": {
    "id": "25187f2c"
   },
   "source": [
    "### 5. \n",
    "\n",
    "Write a program to accept five names from the user and store it in a Tuple 'T1'"
   ]
  },
  {
   "cell_type": "code",
   "execution_count": 57,
   "id": "7e9e98e3",
   "metadata": {
    "id": "7e9e98e3"
   },
   "outputs": [
    {
     "name": "stdout",
     "output_type": "stream",
     "text": [
      "Enter three names separated by spaces: mad,maddy,sow,ram,ajay\n",
      "Names stored in the tuple: ('mad,maddy,sow,ram,ajay',)\n"
     ]
    }
   ],
   "source": [
    "names_input = input(\"Enter names separated by spaces: \") #get inpugt from user \n",
    "names_list = names_input.split() #split the names by using split parameter\n",
    "T1 = tuple(names_list) # convert the splited names into into tuple by assigning variable T1\n",
    "print(\"Names stored in the tuple:\", T1)"
   ]
  }
 ],
 "metadata": {
  "colab": {
   "provenance": []
  },
  "kernelspec": {
   "display_name": "Python 3 (ipykernel)",
   "language": "python",
   "name": "python3"
  },
  "language_info": {
   "codemirror_mode": {
    "name": "ipython",
    "version": 3
   },
   "file_extension": ".py",
   "mimetype": "text/x-python",
   "name": "python",
   "nbconvert_exporter": "python",
   "pygments_lexer": "ipython3",
   "version": "3.9.12"
  }
 },
 "nbformat": 4,
 "nbformat_minor": 5
}
