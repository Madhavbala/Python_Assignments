{
 "cells": [
  {
   "cell_type": "markdown",
   "id": "d72f8ceb",
   "metadata": {
    "id": "d72f8ceb"
   },
   "source": [
    "# Assessment - 5 Gradable\n",
    "\n",
    "- Each question carries 5 or 4 marks\n",
    "- Marks will be assigned in terms of:\n",
    "    \n",
    "    **1. Expected output**\n",
    "    \n",
    "    **2. Quality and Explainability of code**\n",
    "\n",
    "    ***Go back through the script and type a comment above each line explaining in English what it does.***\n",
    "\n",
    "    **3. Copied code, if found, will result in 0 marks for that question. To avoid this make as much comments in the code to explain the approach**"
   ]
  },
  {
   "cell_type": "markdown",
   "id": "e5819cc0",
   "metadata": {
    "id": "e5819cc0"
   },
   "source": [
    "### 1. \n",
    "\n",
    "Create a function ``lets_find_88`` Given a list of ints, return True if the array contains a 8 next to a 8 somewhere.\n",
    "- lets_find_88([1, 8, 8]) → True\n",
    "- lets_find_88([1, 8, 1, 8]) → False\n",
    "- lets_find_88([8, 1, 8]) → False"
   ]
  },
  {
   "cell_type": "code",
   "execution_count": 13,
   "id": "88e3b5b4",
   "metadata": {
    "id": "88e3b5b4"
   },
   "outputs": [
    {
     "name": "stdout",
     "output_type": "stream",
     "text": [
      "True Case :  True\n",
      "False Case :  False\n",
      "False Case :  False\n"
     ]
    }
   ],
   "source": [
    "def lets_find_88(nums):\n",
    "    # Iterate through the list without last element\n",
    "    for i in range(len(nums) - 1):\n",
    "        if nums[i] == 8 and nums[i + 1] == 8:\n",
    "            return True\n",
    "    # If 8 not found, return False\n",
    "    return False\n",
    "\n",
    "obj = lets_find_88([1,8,8])\n",
    "obj1 = lets_find_88([1,8,1,8])\n",
    "obj2 = lets_find_88([8, 1, 8])\n",
    "\n",
    "print(\"first Case : \",obj)\n",
    "print(\"second Case : \",obj1)\n",
    "print(\"third Case : \",obj2)"
   ]
  },
  {
   "cell_type": "markdown",
   "id": "6b3f11fd",
   "metadata": {
    "id": "6b3f11fd"
   },
   "source": [
    "### 2. \n",
    "\n",
    "ANIMAL CRACKERS: Write a function takes a two-word string and returns True if both words begin with same letter and returns False if both words begin with different letter\n",
    "- animal_crackers('Levelheaded Lion') --> True\n",
    "- animal_crackers('Cute Kangaroo') --> False"
   ]
  },
  {
   "cell_type": "code",
   "execution_count": 22,
   "id": "15e45ae3",
   "metadata": {
    "id": "15e45ae3"
   },
   "outputs": [
    {
     "name": "stdout",
     "output_type": "stream",
     "text": [
      "first Statement  :  True\n",
      "second Statement :  False\n"
     ]
    }
   ],
   "source": [
    "def animal_crackers(text):\n",
    "    words = text.split()\n",
    "    if words[0][0] == words[1][0]:\n",
    "        return True\n",
    "    else:\n",
    "        return False\n",
    "obj1 = animal_crackers('Levelheaded Lion')\n",
    "obj2 = animal_crackers('Cute Kangaroo')\n",
    "print(\"first Statement  : \", obj1)\n",
    "print(\"second Statement : \", obj2)"
   ]
  },
  {
   "cell_type": "markdown",
   "id": "42453e7d",
   "metadata": {
    "id": "42453e7d"
   },
   "source": [
    "### 3. \n",
    "\n",
    "Write a function ``how_many_primes`` that returns the number of prime numbers that exist up to and including a given number\n",
    "\n",
    "- how_many_primes(100) --> 25"
   ]
  },
  {
   "cell_type": "code",
   "execution_count": 49,
   "id": "b3302ec4",
   "metadata": {
    "id": "b3302ec4"
   },
   "outputs": [
    {
     "name": "stdout",
     "output_type": "stream",
     "text": [
      "25\n"
     ]
    }
   ],
   "source": [
    "def how_many_primes(nums):\n",
    "    count = 0\n",
    "    for num in range(2, nums + 1):\n",
    "        is_prime = True\n",
    "        for divisor in range(2, num):\n",
    "            if num % divisor == 0:\n",
    "                is_prime = False\n",
    "                break\n",
    "        if is_prime:\n",
    "            count += 1\n",
    "    return count\n",
    "obj = how_many_primes(100)\n",
    "print(obj)\n"
   ]
  },
  {
   "cell_type": "markdown",
   "id": "2b5f6f63",
   "metadata": {
    "id": "2b5f6f63"
   },
   "source": [
    "### 4. \n",
    "\n",
    "b = open(\"assignment.txt\")\n",
    "\n",
    "Consider the code given above and write the answers to the following :\n",
    "\n",
    "- Identify the name of the file : \n",
    "- Identify the name of the function used above : \n",
    "- What is 'b' in above code :\n",
    "- The above statement will  ____________ file in ___________ mode."
   ]
  },
  {
   "cell_type": "code",
   "execution_count": 52,
   "id": "591304ea",
   "metadata": {},
   "outputs": [
    {
     "data": {
      "text/plain": [
       "'\\'1 -- The name of the file being opened is \"assignment.txt\"\\n2 -- open() It is used to open files in Python\\n3 -- b is the object of the object that  represents the opened file \"assignment.txt\"\\n4 -- this statement will open the file \"assignment.txt\" in read mode as default'"
      ]
     },
     "execution_count": 52,
     "metadata": {},
     "output_type": "execute_result"
    }
   ],
   "source": [
    " ''''1 -- The name of the file being opened is \"assignment.txt\"\n",
    " 2 -- open() It is used to open files in Python\n",
    " 3 -- b is the object of the object that  represents the opened file \"assignment.txt\"\n",
    " 4 -- this statement will open the file \"assignment.txt\" in read mode as default'''''"
   ]
  },
  {
   "cell_type": "markdown",
   "id": "6c9eb680",
   "metadata": {
    "id": "6c9eb680"
   },
   "source": [
    "### 5.\n",
    "\n",
    "Accept five hobbies from the user and write in a file 'hobby.txt'. Then Read the file to list out all the 5 hobbies from the user."
   ]
  },
  {
   "cell_type": "code",
   "execution_count": 51,
   "id": "1b9db22c",
   "metadata": {
    "id": "1b9db22c"
   },
   "outputs": [
    {
     "name": "stdout",
     "output_type": "stream",
     "text": [
      "Enter hobby 1: Bgmi\n",
      "Enter hobby 2: Music\n",
      "Enter hobby 3: Chess\n",
      "Enter hobby 4: Kabaddi\n",
      "Enter hobby 5: Dace\n",
      "List of Hobbies:\n",
      "1. Bgmi\n",
      "2. Music\n",
      "3. Chess\n",
      "4. Kabaddi\n",
      "5. Dace\n"
     ]
    }
   ],
   "source": [
    "# Accept five hobbies from the user and write them to 'hobby.txt'\n",
    "with open('hobby.txt', 'w') as file:\n",
    "    for i in range(5):\n",
    "        hobby = input(f\"Enter hobby {i + 1}: \")\n",
    "        file.write(hobby + '\\n')\n",
    "\n",
    "# Read and list out all the hobbies from 'hobby.txt'\n",
    "print(\"List of Hobbies:\")\n",
    "with open('hobby.txt', 'r') as file:\n",
    "    hobbies = file.readlines()\n",
    "    for i, hobby in enumerate(hobbies):\n",
    "        print(f\"{i + 1}. {hobby.strip()}\")"
   ]
  }
 ],
 "metadata": {
  "colab": {
   "provenance": []
  },
  "kernelspec": {
   "display_name": "Python 3 (ipykernel)",
   "language": "python",
   "name": "python3"
  },
  "language_info": {
   "codemirror_mode": {
    "name": "ipython",
    "version": 3
   },
   "file_extension": ".py",
   "mimetype": "text/x-python",
   "name": "python",
   "nbconvert_exporter": "python",
   "pygments_lexer": "ipython3",
   "version": "3.11.4"
  }
 },
 "nbformat": 4,
 "nbformat_minor": 5
}
