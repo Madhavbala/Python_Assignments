{
 "cells": [
  {
   "cell_type": "markdown",
   "id": "4f1596de",
   "metadata": {
    "id": "4f1596de"
   },
   "source": [
    "# Functions\n",
    "- Write solution of each question in the cell given below the corresponsing question.\n",
    "- Function taking input refers to input as a parameter / argument being passed."
   ]
  },
  {
   "cell_type": "markdown",
   "id": "6f0d9ac3",
   "metadata": {
    "id": "6f0d9ac3"
   },
   "source": [
    "#### 1. Create a function that takes a list of numbers as input and returns the median."
   ]
  },
  {
   "cell_type": "code",
   "execution_count": null,
   "id": "0a090145",
   "metadata": {
    "id": "0a090145"
   },
   "outputs": [],
   "source": [
    "def calculate_median(numbers):\n",
    "    numbers.sort()\n",
    "    n = len(numbers)\n",
    "    # Check the number of elements is odd or even\n",
    "    if n % 2 == 1:\n",
    "        median = numbers[n // 2] # If odd, return the middle element\n",
    "    else:\n",
    "        # If even, return the average of the two middle elements\n",
    "        middle_1 = numbers[n // 2 - 1]\n",
    "        middle_2 = numbers[n // 2]\n",
    "        median = (middle_1 + middle_2) / 2\n",
    "\n",
    "    return median"
   ]
  },
  {
   "cell_type": "code",
   "execution_count": null,
   "id": "10cddeca",
   "metadata": {},
   "outputs": [
    {
     "name": "stdout",
     "output_type": "stream",
     "text": [
      "Median: 5.5\n"
     ]
    }
   ],
   "source": [
    "input_numbers = [1,2,3,4,5,6,7,8,9,10]\n",
    "result = calculate_median(input_numbers)\n",
    "print(\"Median:\", result)"
   ]
  },
  {
   "cell_type": "markdown",
   "id": "18a107c4",
   "metadata": {
    "id": "18a107c4"
   },
   "source": [
    "#### 2. Create a function that takes a list of numbers as input and returns the mean."
   ]
  },
  {
   "cell_type": "code",
   "execution_count": null,
   "id": "Vy8v3p_hIgsc",
   "metadata": {
    "id": "Vy8v3p_hIgsc"
   },
   "outputs": [],
   "source": [
    "def mean(numbers):\n",
    "    return sum(numbers) / len(numbers)"
   ]
  },
  {
   "cell_type": "code",
   "execution_count": null,
   "id": "c203b1f1",
   "metadata": {},
   "outputs": [
    {
     "name": "stdout",
     "output_type": "stream",
     "text": [
      "300.6666666666667\n"
     ]
    }
   ],
   "source": [
    "print(mean([1231,123,123,12,312,3]))"
   ]
  },
  {
   "cell_type": "markdown",
   "id": "34df49cf",
   "metadata": {
    "id": "34df49cf"
   },
   "source": [
    "#### 3. Create a function that takes a list of numbers as input and returns the standard deviation."
   ]
  },
  {
   "cell_type": "code",
   "execution_count": null,
   "id": "5a089785",
   "metadata": {
    "id": "5a089785"
   },
   "outputs": [],
   "source": [
    "def mean(numbers):\n",
    "    return sum(numbers) / len(numbers)\n",
    "\n",
    "def std(numbers):\n",
    "    means = mean(numbers)\n",
    "    squared_diff = [(x - means) ** 2 for x in numbers] # Calculate the squared differences from the mean\n",
    "    mean_squared_diff = sum(squared_diff) / len(numbers) # Calculate the mean of the squared differences\n",
    "    std_deviation = mean_squared_diff ** 0.5\n",
    "    return std_deviation"
   ]
  },
  {
   "cell_type": "code",
   "execution_count": null,
   "id": "7QrYx5jiLON6",
   "metadata": {
    "id": "7QrYx5jiLON6"
   },
   "outputs": [
    {
     "name": "stdout",
     "output_type": "stream",
     "text": [
      "Standard Deviation: 2.6246692913372702\n"
     ]
    }
   ],
   "source": [
    "input_numbers = [5, 2, 9, 1, 5, 6]\n",
    "result = std(input_numbers)\n",
    "print(\"Standard Deviation:\", result)"
   ]
  },
  {
   "cell_type": "markdown",
   "id": "9cc39352",
   "metadata": {
    "id": "9cc39352"
   },
   "source": [
    "#### 4. Create a function that takes a number as input and return True if the number is prime , False if not."
   ]
  },
  {
   "cell_type": "code",
   "execution_count": null,
   "id": "722fc2fa",
   "metadata": {
    "id": "722fc2fa"
   },
   "outputs": [],
   "source": [
    "def prime_check(num):\n",
    "    if num <= 1:\n",
    "        return False\n",
    "    if num <= 3:\n",
    "        return True\n",
    "    if num % 2 == 0 or num % 3 == 0:\n",
    "        return False\n",
    "    i = 5\n",
    "    while i * i <= num:\n",
    "        if num % i == 0 or num % (i + 2) == 0:\n",
    "            return False\n",
    "        i += 6\n",
    "    return True\n"
   ]
  },
  {
   "cell_type": "code",
   "execution_count": null,
   "id": "b6e4a201",
   "metadata": {},
   "outputs": [
    {
     "name": "stdout",
     "output_type": "stream",
     "text": [
      "False\n"
     ]
    }
   ],
   "source": [
    "print(prime_check(1))"
   ]
  },
  {
   "cell_type": "markdown",
   "id": "4029f3a8",
   "metadata": {
    "id": "4029f3a8"
   },
   "source": [
    "#### 5. Create a function that takes a list of numbers as input and returns the variance."
   ]
  },
  {
   "cell_type": "code",
   "execution_count": null,
   "id": "83d19248",
   "metadata": {
    "id": "83d19248"
   },
   "outputs": [],
   "source": [
    "def variance_check(num):\n",
    "    if len(num) < 2:\n",
    "        return None  # Variance is undefined for fewer than 2 numbers\n",
    "    mean = sum(num) / len(num)\n",
    "    squared_differences = [(x - mean) ** 2 for x in num]\n",
    "    variance = sum(squared_differences) / (len(num) - 1)\n",
    "    return variance"
   ]
  },
  {
   "cell_type": "code",
   "execution_count": null,
   "id": "4ea53aed",
   "metadata": {},
   "outputs": [
    {
     "name": "stdout",
     "output_type": "stream",
     "text": [
      "32.62878787878788\n"
     ]
    }
   ],
   "source": [
    "numbers = [2, 4, 4, 4, 5, 5, 7, 9,1,23,4,5]\n",
    "result = variance_check(numbers)\n",
    "print(result)"
   ]
  },
  {
   "cell_type": "markdown",
   "id": "7acad1bf",
   "metadata": {
    "id": "7acad1bf"
   },
   "source": [
    "#### 6. Create a function that takes a number as input and returns the factorial."
   ]
  },
  {
   "cell_type": "code",
   "execution_count": null,
   "id": "7bfc2bd8",
   "metadata": {},
   "outputs": [],
   "source": [
    "def factorial_check(n):\n",
    "    if n < 0:\n",
    "        return \"Factorial is not defined for negative numbers\"\n",
    "    elif n == 0:\n",
    "        return 1\n",
    "    else:\n",
    "        result = 1\n",
    "        for i in range(1, n + 1):\n",
    "            result *= i\n",
    "        return result\n"
   ]
  },
  {
   "cell_type": "code",
   "execution_count": null,
   "id": "589d0362",
   "metadata": {},
   "outputs": [
    {
     "name": "stdout",
     "output_type": "stream",
     "text": [
      "5040\n"
     ]
    }
   ],
   "source": [
    "print(factorial_check(7))"
   ]
  },
  {
   "cell_type": "markdown",
   "id": "b1e46b1f",
   "metadata": {
    "id": "b1e46b1f"
   },
   "source": [
    "#### 7. Create a function that takes two lists of same length as input and returns a list consisting of larger element at each position after comparing the corresponding elements in the given lists."
   ]
  },
  {
   "cell_type": "code",
   "execution_count": null,
   "id": "bc428d22",
   "metadata": {
    "id": "bc428d22"
   },
   "outputs": [],
   "source": [
    "def larger_element(list1, list2):\n",
    "    if len(list1) != len(list2):\n",
    "        return \"Invalid Length of the List's\"\n",
    "    result = []\n",
    "    for i in range(len(list1)): \n",
    "        if list1[i] > list2[i]:\n",
    "            result.append(list1[i])  # Append the larger element from list1\n",
    "        else:\n",
    "            result.append(list2[i])  # Append the larger element from list2\n",
    "    \n",
    "    return result"
   ]
  },
  {
   "cell_type": "code",
   "execution_count": null,
   "id": "8433ce1a",
   "metadata": {},
   "outputs": [
    {
     "name": "stdout",
     "output_type": "stream",
     "text": [
      "[4, 7, 8, 9, 10]\n"
     ]
    }
   ],
   "source": [
    "list1 = [3,7,2,9,0]\n",
    "list2 = [4,1,8,6,10]\n",
    "result_list = larger_element(list1, list2)\n",
    "print(result_list)"
   ]
  },
  {
   "cell_type": "markdown",
   "id": "f397889f",
   "metadata": {
    "id": "f397889f"
   },
   "source": [
    "#### 8. Create a function that takes a string and returns a string after joining the words that are having even lengths."
   ]
  },
  {
   "cell_type": "code",
   "execution_count": null,
   "id": "ebf96e1c",
   "metadata": {
    "id": "ebf96e1c"
   },
   "outputs": [
    {
     "name": "stdout",
     "output_type": "stream",
     "text": [
      "Create function that string that having even lengths.\n"
     ]
    }
   ],
   "source": [
    "def even_length(input_string):\n",
    "    words = input_string.split()\n",
    "    # Filter the words with even lengths\n",
    "    even_length_words = [word for word in words if len(word) % 2 == 0]\n",
    "    result_string = ' '.join(even_length_words)\n",
    "    return result_string\n",
    "\n",
    "input_str = \"Create a function that takes a string and returns a strings after joining the words that are having even lengths.\"\n",
    "result = even_length(input_str)\n",
    "print(result)"
   ]
  },
  {
   "cell_type": "markdown",
   "id": "36c6aae1",
   "metadata": {
    "id": "36c6aae1"
   },
   "source": [
    "#### 9. Create a function that takes a string and a character as input and returns a list after splitting the string based on the given character. By Default split based on whitespace. (Create a function similar to the inbuilt split function without using it)."
   ]
  },
  {
   "cell_type": "code",
   "execution_count": null,
   "id": "869d7244",
   "metadata": {
    "id": "869d7244"
   },
   "outputs": [],
   "source": [
    "def split(input_string, split_char=None):\n",
    "    # If split_char is not provided, use whitespace as the default separator\n",
    "    \n",
    "    if split_char is None:\n",
    "        split_char = ' '\n",
    "    result = []\n",
    "    current_word = ''\n",
    "    import pdb; pdb.set_trace()\n",
    "    for char in input_string:\n",
    "        if char != split_char:\n",
    "            current_word += char  # Build the current word\n",
    "        else:\n",
    "            if current_word:  # Append the current word if it's not empty\n",
    "                result.append(current_word)\n",
    "            current_word = ''  # Reset the current word\n",
    "    if current_word:\n",
    "        result.append(current_word)\n",
    "\n",
    "    return result\n",
    "\n",
    "input_str = \"Madhavan\"\n",
    "split_char = 'a'  # Split the string using a comma\n",
    "result = split(input_str, split_char)\n",
    "print(result)"
   ]
  },
  {
   "cell_type": "markdown",
   "id": "b8c01afd",
   "metadata": {
    "id": "b8c01afd"
   },
   "source": [
    "#### 10. Create a function which takes a 2-D list of shape m * n where m is number of elements in the original list and where each element is a list having n integers (A list of m lists having n numbers each, a matrix). The function returns the largest element in the given list."
   ]
  },
  {
   "cell_type": "code",
   "execution_count": null,
   "id": "1f67fa6f",
   "metadata": {},
   "outputs": [],
   "source": [
    "def matrix_element(matrix):\n",
    "    if not matrix:\n",
    "        return None  # Return None for an empty matrix\n",
    "    \n",
    "    largest_element = matrix[0][0]\n",
    "    for row in matrix:\n",
    "        for element in row:\n",
    "            if element > largest_element:\n",
    "                largest_element = element\n",
    "\n",
    "    return largest_element\n",
    "matrix = [\n",
    "    [1, 2, 3],\n",
    "    [4, 5, 6],\n",
    "    [7, 8, 9]\n",
    "]\n",
    "\n",
    "result = matrix_element(matrix)\n",
    "print(\"The largest element in the matrix is:\", result)"
   ]
  },
  {
   "cell_type": "code",
   "execution_count": null,
   "id": "adda1366",
   "metadata": {
    "id": "adda1366"
   },
   "outputs": [],
   "source": []
  },
  {
   "cell_type": "markdown",
   "id": "d2a2a668",
   "metadata": {
    "id": "d2a2a668"
   },
   "source": [
    "#### 11. Create a function which takes a 2-D list of shape m * n where m is number of elements in the original list and where each element is a list having n integers (A list of m lists having n numbers each). The function also takes a number x as input and returns True is x is in the given 2D list."
   ]
  },
  {
   "cell_type": "code",
   "execution_count": 4,
   "id": "585d5e4b",
   "metadata": {
    "id": "585d5e4b",
    "tags": []
   },
   "outputs": [
    {
     "name": "stdout",
     "output_type": "stream",
     "text": [
      "[1, 2, 3]\n",
      "[4, 8, 6]\n",
      "[7, 5, 9]\n",
      "5 is in the 2D list.\n"
     ]
    }
   ],
   "source": [
    "def number_check(matrix, x):\n",
    "    for row in matrix:\n",
    "        print(row)\n",
    "        # Check if x is in the current row using the \"in\" operator\n",
    "        if x in row:\n",
    "            return True\n",
    "    return False\n",
    "\n",
    "# Example usage:\n",
    "matrix = [\n",
    "    [1, 2, 3],\n",
    "    [4, 8, 6],\n",
    "    [7, 5, 9]\n",
    "]\n",
    "x = 5\n",
    "\n",
    "if number_check(matrix, x):\n",
    "    print(f\"{x} is in the 2D list.\")\n",
    "else:\n",
    "    print(f\"{x} is not in the 2D list.\")\n"
   ]
  },
  {
   "cell_type": "markdown",
   "id": "0d889f51",
   "metadata": {
    "id": "0d889f51",
    "tags": []
   },
   "source": [
    "#### 12. Create a function which takes a 2-D list of shape m * n where m is number of elements in the original list and where each element is a list having n integers (A list of m lists having n numbers each). The function returns the sum of all rows in the matrix (2 D list)."
   ]
  },
  {
   "cell_type": "code",
   "execution_count": null,
   "id": "8c1b6af7-8cad-4e3b-a957-c1242d9f6f7f",
   "metadata": {},
   "outputs": [],
   "source": [
    "def sum_rows(matrix):\n",
    "    row_sums = []\n",
    "    for row in matrix:\n",
    "        row_sum = sum(row)\n",
    "        row_sums.append(row_sum)\n",
    "    return row_sums\n",
    "\n",
    "# Example usage:\n",
    "matrix = [\n",
    "    [1, 2, 3],\n",
    "    [4, 5, 6],\n",
    "    [7, 8, 9]\n",
    "]\n",
    "\n",
    "row_sums = sum_rows(matrix)\n",
    "print(row_sums)"
   ]
  },
  {
   "cell_type": "markdown",
   "id": "5fe56c6b-0dac-42bc-8073-023b969e5e98",
   "metadata": {},
   "source": [
    "### The above code works on Visual Code but not here in jupyter . I'm unable to encounter the error please check that. So provide the that works fine accroding to the question."
   ]
  },
  {
   "cell_type": "markdown",
   "id": "f89438e1",
   "metadata": {
    "id": "f89438e1",
    "tags": []
   },
   "source": [
    "#### 13. Create a function which takes a 2-D list of shape m * n where m is number of elements in the original list and where each element is a list having n integers (A list of m lists having n numbers each). The function also a takes a number x as input and returns a list of all consecutive pairs having sum eaqqual to x."
   ]
  },
  {
   "cell_type": "code",
   "execution_count": 40,
   "id": "c857dfcd",
   "metadata": {
    "id": "c857dfcd",
    "tags": []
   },
   "outputs": [
    {
     "name": "stdout",
     "output_type": "stream",
     "text": [
      "[(4, 6), (5, 5), (6, 4)]\n"
     ]
    }
   ],
   "source": [
    "def find_pairs(matrix, x):\n",
    "    pairs = []\n",
    "    for row in matrix:\n",
    "        for i in range(len(row)):\n",
    "            for j in range(len(row)):\n",
    "                pair_sum = row[i] + row[j]\n",
    "                if pair_sum == x:\n",
    "                    pairs.append((row[i], row[j]))\n",
    "    return pairs\n",
    "\n",
    "matrix = [\n",
    "    [1, 2, 3, 4],\n",
    "    [4, 5, 6, 7],\n",
    "    [7, 8, 9, 10]\n",
    "]\n",
    "x = 10\n",
    "\n",
    "result = find_pairs(matrix, x)\n",
    "print(result)"
   ]
  },
  {
   "cell_type": "markdown",
   "id": "976248d9",
   "metadata": {
    "id": "976248d9"
   },
   "source": [
    "#### 14. Create a function that takes a list and a number as input and returns True ifthe number is present in the list otherwise false using Binary search algorithm. (Read about Binary Search)."
   ]
  },
  {
   "cell_type": "code",
   "execution_count": 43,
   "id": "ef73c7cb",
   "metadata": {
    "id": "ef73c7cb",
    "tags": []
   },
   "outputs": [
    {
     "name": "stdout",
     "output_type": "stream",
     "text": [
      "True\n"
     ]
    }
   ],
   "source": [
    "def binary_search(arr, x):\n",
    "    left, right = 0, len(arr) - 1\n",
    "\n",
    "    while left <= right:\n",
    "        mid = left + (right - left) // 2\n",
    "\n",
    "        if arr[mid] == x:\n",
    "            return True  # Number found\n",
    "        elif arr[mid] < x:\n",
    "            left = mid + 1\n",
    "        else:\n",
    "            right = mid - 1\n",
    "\n",
    "    return False  # Number not found\n",
    "\n",
    "# Example usage:\n",
    "sorted_list = [1, 2, 3, 4, 5, 6, 7, 8, 9]\n",
    "x = 5\n",
    "\n",
    "result = binary_search(sorted_list, x)\n",
    "print(result)\n"
   ]
  },
  {
   "cell_type": "markdown",
   "id": "f12cc8c9",
   "metadata": {
    "id": "f12cc8c9"
   },
   "source": [
    "#### 15. Create a function which takes a txt filename as input and returns the number of words in that file."
   ]
  },
  {
   "cell_type": "code",
   "execution_count": 21,
   "id": "46492494",
   "metadata": {
    "id": "46492494"
   },
   "outputs": [
    {
     "name": "stdout",
     "output_type": "stream",
     "text": [
      "Number of words in 'assg (1).txt': 107\n"
     ]
    }
   ],
   "source": [
    "def count_words(filename):\n",
    "    with open(filename, 'r') as file:\n",
    "        file_read = file.read()\n",
    "        words_len = file_read.split()\n",
    "        word_count = len(words_len)\n",
    "    return word_count\n",
    "\n",
    "filename = 'assg (1).txt'  \n",
    "word_count = count_words(filename)\n",
    "print(f\"Number of words in '{filename}': {word_count}\")"
   ]
  },
  {
   "cell_type": "markdown",
   "id": "b2666c95",
   "metadata": {
    "id": "b2666c95"
   },
   "source": [
    "#### 16. Create a function which takes a txt filename as input and returns the number of line in the file."
   ]
  },
  {
   "cell_type": "code",
   "execution_count": 22,
   "id": "5ff27d42",
   "metadata": {
    "id": "5ff27d42"
   },
   "outputs": [
    {
     "name": "stdout",
     "output_type": "stream",
     "text": [
      "Number of lines in 'assg (1).txt': 3\n"
     ]
    }
   ],
   "source": [
    "def count_lines(filename):\n",
    "    with open(filename, 'r') as file:\n",
    "        line_count = sum(1 for line in file)\n",
    "    return line_count\n",
    "\n",
    "filename = 'assg (1).txt'  \n",
    "line_count = count_lines(filename)\n",
    "print(f\"Number of lines in '{filename}': {line_count}\")"
   ]
  },
  {
   "cell_type": "markdown",
   "id": "6722fb75",
   "metadata": {
    "id": "6722fb75"
   },
   "source": [
    "#### 17. Create a function that takes two txt filenames and returns a file after merging the cintents of two given files. (Print the merged content and then return the filename, content of original files should be unchanged)."
   ]
  },
  {
   "cell_type": "code",
   "execution_count": 24,
   "id": "86a4b436",
   "metadata": {
    "id": "86a4b436"
   },
   "outputs": [
    {
     "name": "stdout",
     "output_type": "stream",
     "text": [
      "Merged Content\n",
      "What is Python? Executive Summary\n",
      "Python is an interpreted, object-oriented, high-level programming language with dynamic semantics. Its high-level built in data structures, combined with dynamic typing and dynamic binding, make it very attractive for Rapid Application Development, as well as for use as a scripting or glue language to connect existing components together. Python's simple, easy to learn syntax emphasizes readability and therefore reduces the cost of program maintenance. Python supports modules and packages, which encourages program modularity and code reuse. The Python interpreter and the extensive standard library are available in source or binary form without charge for all major platforms, and can be freely distributed.\n",
      "\n",
      "\n",
      "What is SQL?\n",
      "Structured query language (SQL) is a programming language for storing and processing information in a relational database. A relational database stores information in tabular form, with rows and columns representing different data attributes and the various relationships between the data values. You can use SQL statements to store, update, remove, search, and retrieve information from the database. You can also use SQL to maintain and optimize database performance.\n",
      "\n",
      "Contents of merged file 'file3_output.txt' have been saved.\n"
     ]
    }
   ],
   "source": [
    "def merge_files(file1_name, file2_name, output_file_name):\n",
    "    with open(file1_name, 'r') as file1, open(file2_name, 'r') as file2:\n",
    "        content1 = file1.read()\n",
    "        content2 = file2.read()\n",
    "    merged_content = content1 + \"\\n\" + content2\n",
    "    print(\"Merged Content\" )\n",
    "    print(merged_content)\n",
    "    with open(output_file_name, 'w') as output_file:\n",
    "        output_file.write(merged_content)\n",
    "    return output_file_name, merged_content\n",
    "file1 = 'assg (1).txt'\n",
    "file2 = 'assg (2).txt'\n",
    "output_file = 'file3_output.txt'\n",
    "result_file, merged_content = merge_files(file1, file2, output_file)\n",
    "print(f\"Contents of merged file '{result_file}' have been saved.\")"
   ]
  },
  {
   "cell_type": "markdown",
   "id": "faf26668",
   "metadata": {
    "id": "faf26668"
   },
   "source": [
    "#### 18. Write a program that takes a string as input and returns a list of all words having even length in that string (Using Map/Filter and Lambda expression)."
   ]
  },
  {
   "cell_type": "code",
   "execution_count": 28,
   "id": "955cd692",
   "metadata": {
    "id": "955cd692"
   },
   "outputs": [
    {
     "name": "stdin",
     "output_type": "stream",
     "text": [
      "Enter a string:  hjgfjh ytujtyutygvh y ugy ujtgyj\n"
     ]
    },
    {
     "name": "stdout",
     "output_type": "stream",
     "text": [
      "Words with evenn length: ['hjgfjh', 'ytujtyutygvh', 'ujtgyj']\n"
     ]
    }
   ],
   "source": [
    "even_length = lambda word: len(word) % 2 == 0\n",
    "input_string = input(\"Enter a string: \")\n",
    "words = input_string.split()\n",
    "even_length_words = list(filter(even_length, words))\n",
    "print(\"Evenn length:\", even_length_words)"
   ]
  },
  {
   "cell_type": "code",
   "execution_count": null,
   "id": "A1z_AdWcyKJi",
   "metadata": {
    "id": "A1z_AdWcyKJi"
   },
   "outputs": [],
   "source": []
  }
 ],
 "metadata": {
  "colab": {
   "provenance": []
  },
  "kernelspec": {
   "display_name": "Python 3 (ipykernel)",
   "language": "python",
   "name": "python3"
  },
  "language_info": {
   "codemirror_mode": {
    "name": "ipython",
    "version": 3
   },
   "file_extension": ".py",
   "mimetype": "text/x-python",
   "name": "python",
   "nbconvert_exporter": "python",
   "pygments_lexer": "ipython3",
   "version": "3.11.4"
  }
 },
 "nbformat": 4,
 "nbformat_minor": 5
}
