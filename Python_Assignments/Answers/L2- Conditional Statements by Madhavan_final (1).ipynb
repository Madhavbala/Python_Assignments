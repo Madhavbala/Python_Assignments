{
 "cells": [
  {
   "cell_type": "markdown",
   "id": "3a10df7a",
   "metadata": {
    "id": "3a10df7a"
   },
   "source": [
    "# Conditional Statements\n",
    "- Write solution of each question in the cell given below the corresponsing question."
   ]
  },
  {
   "cell_type": "markdown",
   "id": "60c2d89a",
   "metadata": {
    "id": "60c2d89a"
   },
   "source": [
    "#### 1. Take a list of numbers as input. Print whether the average is even or odd."
   ]
  },
  {
   "cell_type": "code",
   "execution_count": 3,
   "id": "Fh5bSu8vCRWU",
   "metadata": {
    "id": "Fh5bSu8vCRWU"
   },
   "outputs": [
    {
     "name": "stdout",
     "output_type": "stream",
     "text": [
      "Enter the Number sep by [,] : 1,2,3\n",
      "Total :  6\n",
      "Even\n"
     ]
    }
   ],
   "source": [
    "inpu_num = input(\"Enter the Number sep by [,] : \")\n",
    "num = [int(inpu_num) for inpu_num in inpu_num.split(',')]\n",
    "total = sum(num)\n",
    "print(\"Total : \", total)\n",
    "avg = sum(num) / len(num)\n",
    "if avg % 2 == 0 :\n",
    "    print(\"Even\")\n",
    "else:\n",
    "    print(\"odd\")"
   ]
  },
  {
   "cell_type": "markdown",
   "id": "4846bb19",
   "metadata": {
    "id": "4846bb19"
   },
   "source": [
    "#### 2. Take three strings as input. Calculate the number of words in each string and find out the list having highest number of words."
   ]
  },
  {
   "cell_type": "code",
   "execution_count": 39,
   "id": "3468b091",
   "metadata": {},
   "outputs": [
    {
     "name": "stdout",
     "output_type": "stream",
     "text": [
      "Enter the first string: madhav,maddy,madhavan\n",
      "The Highest Number of words in a string is : madhavan and length is : 8\n"
     ]
    }
   ],
   "source": [
    "# Take three strings as input\n",
    "inpu = input(\"Enter the string's seprate by [,] : \")\n",
    "vari = inpu.split(',') #split the input\n",
    "maxi = '0' #delare stting 0 to calculate len\n",
    "for i in vari:\n",
    "    if len(i) > len(maxi): #condition to check the logic\n",
    "        maxi = i\n",
    "print(f\"The Highest Number of words in a string is : {maxi} and length is : {len(maxi)}\" )"
   ]
  },
  {
   "cell_type": "markdown",
   "id": "0e0d8196",
   "metadata": {
    "id": "0e0d8196"
   },
   "source": [
    "#### 3. Take four numbers as input in a single line. Find out the largest number."
   ]
  },
  {
   "cell_type": "code",
   "execution_count": 60,
   "id": "Fc_7ETl1CVMu",
   "metadata": {
    "id": "Fc_7ETl1CVMu"
   },
   "outputs": [
    {
     "name": "stdout",
     "output_type": "stream",
     "text": [
      "Enter four numbers separated by spaces: 1 22 3 4\n",
      "The largest number is: 22\n"
     ]
    }
   ],
   "source": [
    "numbr = input(\"Enter four numbers separated by spaces: \") #get the input\n",
    "numbr_list = numbr.split() #split the input\n",
    "numbr_list = [int(num) for num in numbr_list] #convert str to list\n",
    "largest_number = max(numbr_list)# Find the largest number \n",
    "print(\"The largest number is:\", largest_number)"
   ]
  },
  {
   "cell_type": "markdown",
   "id": "16c0440a",
   "metadata": {
    "id": "16c0440a"
   },
   "source": [
    "#### 4. Take four numbers as input and find the second largest numer."
   ]
  },
  {
   "cell_type": "code",
   "execution_count": 74,
   "id": "RuBQfFAHWAlL",
   "metadata": {
    "id": "RuBQfFAHWAlL"
   },
   "outputs": [
    {
     "name": "stdout",
     "output_type": "stream",
     "text": [
      "Enter four numbers separated by spaces: 1 2 3 4\n",
      "[4, 3, 2, 1]\n",
      "Second Largest Number in a list is :  3\n"
     ]
    }
   ],
   "source": [
    "numbr = input(\"Enter four numbers separated by spaces: \") #get the input\n",
    "numbr_list = numbr.split() #split the input\n",
    "inpu_list = [int(num) for num in numbr_list] #convert str to list\n",
    "inpu_list.sort(reverse = True)\n",
    "print(inpu_list)\n",
    "sec_lar = inpu_list[1]\n",
    "print(\"Second Largest Number in a list is : \" , sec_lar)"
   ]
  },
  {
   "cell_type": "markdown",
   "id": "2f6641a4",
   "metadata": {
    "id": "2f6641a4"
   },
   "source": [
    "#### 5. Create a dictionary having three items. Key of each item is the name of a student, value associated with each key is a list of marks in five subjects. Given this dictionary print the top and lowest scorers."
   ]
  },
  {
   "cell_type": "code",
   "execution_count": 77,
   "id": "R5C1C61OYuls",
   "metadata": {
    "id": "R5C1C61OYuls"
   },
   "outputs": [
    {
     "name": "stdout",
     "output_type": "stream",
     "text": [
      "The Top Scorer is    :  Tom\n",
      "The Lowest Scorer is :  Jon\n"
     ]
    }
   ],
   "source": [
    "students={'Tom':[89,98,45,67,89], 'Jon':[92,41,43,66,87], 'Bob':[67,53,89,89,34]}     \n",
    "total_marks = {student: sum(marks) for student, marks in students.items()}\n",
    "top = max(total_marks,key=total_marks.get)\n",
    "low = min(total_marks,key=total_marks.get)\n",
    "print(\"The Top Scorer is    : \",top)\n",
    "print(\"The Lowest Scorer is : \",low)"
   ]
  },
  {
   "cell_type": "markdown",
   "id": "64db0791",
   "metadata": {
    "id": "64db0791"
   },
   "source": [
    "#### 6. Create a dictionary (called data) of having at least 5 items : Usernames as keys and Passwords as values. Write a program that takes a username and a password as input. If the credentials match any iteam in the given dictionary data then print acces granted otherwise print whether username, password or both are wrong."
   ]
  },
  {
   "cell_type": "code",
   "execution_count": 88,
   "id": "WtqLAvhiazaM",
   "metadata": {
    "id": "WtqLAvhiazaM"
   },
   "outputs": [
    {
     "name": "stdout",
     "output_type": "stream",
     "text": [
      "Enter username: Madhav\n",
      "Enter password: erwsc\n",
      "Password is wrong\n"
     ]
    }
   ],
   "source": [
    "#dictionary of usernames and passwords\n",
    "datas = {\n",
    "    \"Madhav\": \"pass123\",\n",
    "    \"Maddy\": \"pass1234\",\n",
    "    \"Madhavan\": \"pass12345\",\n",
    "    \"Mathu\": \"pass123456\",\n",
    "    \"Aakash\": \"pass1234567\"\n",
    "}\n",
    "username = input(\"Enter username: \")# Input username and password\n",
    "password = input(\"Enter password: \")\n",
    "if username in datas.keys(): # Check the username exists in the dictionary\n",
    "    if datas[username] == password: # Check the password matches ot not\n",
    "        print(\"Access Granted\")\n",
    "    else:\n",
    "        print(\"Password is wrong\")\n",
    "else:\n",
    "    print(\"Username and Password is wrong\")\n"
   ]
  },
  {
   "cell_type": "markdown",
   "id": "27c56bb8",
   "metadata": {
    "id": "27c56bb8"
   },
   "source": [
    "#### 7. Take a list as input in a single line containing 15 numbers as marks out of 100. The first five numbers in the list are marks of Tom, the middle 5 numbers are marks of Bob and the last 5 are the marks of Jon. Find out the top and lowest scorer."
   ]
  },
  {
   "cell_type": "code",
   "execution_count": 90,
   "id": "ah156U4T9iat",
   "metadata": {
    "id": "ah156U4T9iat"
   },
   "outputs": [
    {
     "name": "stdout",
     "output_type": "stream",
     "text": [
      "Enter 15 numbers as marks out of 100, separated by spaces: 12 12 12 12 12 13 13 13 13 13 14 14 14 14 14\n",
      "The top scorer is Jon with an average score of 14.0.\n",
      "The lowest scorer is Tom with an average score of 12.0.\n"
     ]
    }
   ],
   "source": [
    "marks_list = input(\"Enter 15 numbers as marks out of 100, separated by spaces: \")\n",
    "marks = list(map(int, marks_list.split()))\n",
    "\n",
    "tom_marks = marks[:5]\n",
    "bob_marks = marks[5:10]\n",
    "jon_marks = marks[10:]\n",
    "\n",
    "# Calculate the average marks for each person\n",
    "tom_avg = sum(tom_marks) / 5\n",
    "bob_avg = sum(bob_marks) / 5\n",
    "jon_avg = sum(jon_marks) / 5\n",
    "\n",
    "# Find the top scorer and lowest scorer\n",
    "top_scorer = max({\"Tom\": tom_avg, \"Bob\": bob_avg, \"Jon\": jon_avg}.items(), key=lambda x: x[1])\n",
    "lowest_scorer = min({\"Tom\": tom_avg, \"Bob\": bob_avg, \"Jon\": jon_avg}.items(), key=lambda x: x[1])\n",
    "\n",
    "print(f\"The top scorer is {top_scorer[0]} with an average score of {top_scorer[1]}.\")\n",
    "print(f\"The lowest scorer is {lowest_scorer[0]} with an average score of {lowest_scorer[1]}.\")"
   ]
  },
  {
   "cell_type": "markdown",
   "id": "20f59542",
   "metadata": {
    "id": "20f59542"
   },
   "source": [
    "#### 8. Take a number as input and print whether the number is a multiple of 3,5 or both."
   ]
  },
  {
   "cell_type": "code",
   "execution_count": null,
   "id": "otWg3MXaYing",
   "metadata": {
    "id": "otWg3MXaYing"
   },
   "outputs": [],
   "source": [
    "# get a Input number\n",
    "number = int(input(\"Enter a number: \"))\n",
    "\n",
    "if number % 3 == 0 and number % 5 == 0: # Check if the number is a multiple of 3 and/or 5\n",
    "    print(f\"{number} is a multiple of both 3 and 5.\")\n",
    "elif number % 3 == 0: #Check if the number is only multiple of 3\n",
    "    print(f\"{number} is a multiple of 3, but not 5.\")\n",
    "elif number % 5 == 0: #Check if the number is only multiple of 5\n",
    "    print(f\"{number} is a multiple of 5, but not 3.\")\n",
    "else:\n",
    "    print(f\"{number} is not a multiple of either 3 or 5.\")"
   ]
  },
  {
   "cell_type": "markdown",
   "id": "b770e791",
   "metadata": {
    "id": "b770e791"
   },
   "source": [
    "#### 9. Write a program to take three strings as input and print the string having second largest number of words."
   ]
  },
  {
   "cell_type": "code",
   "execution_count": 8,
   "id": "BIaLOJ6eEvGO",
   "metadata": {
    "id": "BIaLOJ6eEvGO"
   },
   "outputs": [
    {
     "name": "stdout",
     "output_type": "stream",
     "text": [
      "Enter strings separated by spaces: m ma maa\n",
      "second_largest_index :  1\n",
      "The string with the second largest number of words is: ma\n"
     ]
    }
   ],
   "source": [
    "# get input\n",
    "input_strings = input(\"Enter strings separated by spaces: \")\n",
    "strings = input_strings.split()\n",
    "word_counts = [len(string.split()) for string in strings]\n",
    "sorted_indices = sorted(range(len(word_counts)), key=lambda i: word_counts[i], reverse=True)\n",
    "second_largest_index = sorted_indices[1]\n",
    "print(\"second_largest_index : \" ,second_largest_index)\n",
    "print(\"The string with the second largest number of words is:\", strings[second_largest_index])"
   ]
  },
  {
   "cell_type": "markdown",
   "id": "5a485c8c",
   "metadata": {
    "id": "5a485c8c"
   },
   "source": [
    "#### 10. Write a program to take four strings as input and print the string having third highest number of words."
   ]
  },
  {
   "cell_type": "code",
   "execution_count": 14,
   "id": "19Wx8OZqk3UQ",
   "metadata": {
    "id": "19Wx8OZqk3UQ"
   },
   "outputs": [
    {
     "name": "stdout",
     "output_type": "stream",
     "text": [
      "Enter strings separated by spaces: m ma maa maddy\n",
      "third_largest_index :  2\n",
      "The string with the second largest number of words is: maa\n"
     ]
    }
   ],
   "source": [
    "# get input\n",
    "input_strings = input(\"Enter strings separated by spaces: \")\n",
    "strings = input_strings.split()\n",
    "word_counts = [len(string.split()) for string in strings]\n",
    "sorted_indices = sorted(range(len(word_counts)), key=lambda i: word_counts[i], reverse=True)\n",
    "third_largest_index = sorted_indices[2]\n",
    "print(\"third_largest_index : \" , third_largest_index)\n",
    "print(\"The string with the second largest number of words is:\", strings[third_largest_index])"
   ]
  }
 ],
 "metadata": {
  "colab": {
   "provenance": []
  },
  "kernelspec": {
   "display_name": "Python 3 (ipykernel)",
   "language": "python",
   "name": "python3"
  },
  "language_info": {
   "codemirror_mode": {
    "name": "ipython",
    "version": 3
   },
   "file_extension": ".py",
   "mimetype": "text/x-python",
   "name": "python",
   "nbconvert_exporter": "python",
   "pygments_lexer": "ipython3",
   "version": "3.9.12"
  }
 },
 "nbformat": 4,
 "nbformat_minor": 5
}
