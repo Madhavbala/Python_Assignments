{
 "cells": [
  {
   "cell_type": "markdown",
   "id": "c6ec5c42",
   "metadata": {
    "id": "c6ec5c42"
   },
   "source": [
    "# Assessment - 3 Gradable\n",
    "\n",
    "- Each question carries 3 or 4 marks\n",
    "- Marks will be assigned in terms of:\n",
    "    \n",
    "    **1. Expected output**\n",
    "    \n",
    "    **2. Quality and Explainability of code**\n",
    "\n",
    "    ***Go back through the script and type a comment above each line explaining in English what it does.***\n",
    "\n",
    "    **3. Copied code, if found, will result in 0 marks for that question. To avoid this make as much comments in the code to explain the approach**"
   ]
  },
  {
   "cell_type": "markdown",
   "id": "8698053e",
   "metadata": {
    "id": "8698053e"
   },
   "source": [
    "### 1.\n",
    "\n",
    "Go through the string below and if the length of a word is even print \"even!\"\n",
    "\n",
    "string = 'I know how to print every word in this sentence that has an even number of letters'"
   ]
  },
  {
   "cell_type": "code",
   "execution_count": 11,
   "id": "4dec28a9",
   "metadata": {
    "id": "4dec28a9"
   },
   "outputs": [
    {
     "name": "stdout",
     "output_type": "stream",
     "text": [
      "I --> [ Odd ] \n",
      "know --> [ Even ] \n",
      "how --> [ Odd ] \n",
      "to --> [ Even ] \n",
      "print --> [ Odd ] \n",
      "every --> [ Odd ] \n",
      "word --> [ Even ] \n",
      "in --> [ Even ] \n",
      "this --> [ Even ] \n",
      "sentence --> [ Even ] \n",
      "that --> [ Even ] \n",
      "has --> [ Odd ] \n",
      "an --> [ Even ] \n",
      "even --> [ Even ] \n",
      "number --> [ Even ] \n",
      "of --> [ Even ] \n",
      "letters --> [ Odd ] \n"
     ]
    }
   ],
   "source": [
    "string = 'I know how to print every word in this sentence that has an even number of letters'\n",
    "words = string.split() #remove the spaces in sentances using split parameter \n",
    "for word in words: #iter the each word of the sentance using for loop to find the length of each word\n",
    "    if len(word) % 2 == 0: #pass the given condition by using if else condition statement  \n",
    "        print(word,\"--> [ Even ] \")\n",
    "    else:\n",
    "        print(word,\"--> [ Odd ] \")"
   ]
  },
  {
   "cell_type": "markdown",
   "id": "8569bc4e",
   "metadata": {
    "id": "8569bc4e"
   },
   "source": [
    "### 2. \n",
    "\n",
    "Write a program to check given number is odd or even\n",
    "\n",
    "Hint:\n",
    "- 20 is even\n",
    "- 27 is odd"
   ]
  },
  {
   "cell_type": "code",
   "execution_count": 14,
   "id": "9ccfca15",
   "metadata": {
    "id": "9ccfca15"
   },
   "outputs": [
    {
     "name": "stdout",
     "output_type": "stream",
     "text": [
      "Enter the Number : 27\n",
      "The Given Number is Odd\n"
     ]
    }
   ],
   "source": [
    "num = int(input(\"Enter the Number : \"))\n",
    "if num % 2 ==0:\n",
    "    print(\"The Given Number is Even\")\n",
    "else:\n",
    "    print(\"The Given Number is Odd\")"
   ]
  },
  {
   "cell_type": "markdown",
   "id": "40759409",
   "metadata": {
    "id": "40759409"
   },
   "source": [
    "### 3.\n",
    "\n",
    "Write a program to check given number is divisible by 6 or not\n",
    "\n",
    "Hint:\n",
    "24 is divisible by 6\n",
    "27 is not divisible by 6"
   ]
  },
  {
   "cell_type": "code",
   "execution_count": 17,
   "id": "f7409469",
   "metadata": {
    "id": "f7409469"
   },
   "outputs": [
    {
     "name": "stdout",
     "output_type": "stream",
     "text": [
      "Enter the Number : 24\n",
      "The Given Number can be divisible by 6\n"
     ]
    }
   ],
   "source": [
    "num = int(input(\"Enter the Number : \"))\n",
    "if num % 6 ==0:\n",
    "    print(\"The Given Number can be divisible by 6\")\n",
    "else:\n",
    "    print(\"The Given Number cannot be divisible by 6\")"
   ]
  },
  {
   "cell_type": "markdown",
   "id": "0dd3847a",
   "metadata": {
    "id": "0dd3847a"
   },
   "source": [
    "### 4. \n",
    "\n",
    "Create a list containing the following 3 elements:\n",
    "\n",
    "- Subject person had taken\n",
    "- Marks Achieved\n",
    "- a boolean value showing previous programming experience\n",
    "\n",
    "print all details and also print person has programming experience or not"
   ]
  },
  {
   "cell_type": "code",
   "execution_count": 19,
   "id": "5c87efcb",
   "metadata": {
    "id": "5c87efcb"
   },
   "outputs": [
    {
     "name": "stdout",
     "output_type": "stream",
     "text": [
      "Subject: Subject person had taken\n",
      "Marks: Marks Achieved \n",
      "Programming Experience: True\n",
      "Person has programming experience.\n"
     ]
    }
   ],
   "source": [
    "details = [\"Subject person had taken\",\"Marks Achieved \",True ]\n",
    "\n",
    "print(\"Subject:\", details[0])\n",
    "print(\"Marks:\", details[1])\n",
    "print(\"Programming Experience:\",details[2])\n",
    "\n",
    "if details[2]:\n",
    "    print(\"Person has programming experience.\")\n",
    "else:\n",
    "    print(\"Person does not have programming experience.\")"
   ]
  },
  {
   "cell_type": "markdown",
   "id": "a54510f0",
   "metadata": {
    "id": "a54510f0"
   },
   "source": [
    "### 5.\n",
    "\n",
    "Write a program to check sum of all elements in a list is greater than 100 or not\n",
    "\n",
    "Hint:\n",
    "- [11, 13, 17, 19, 11] --> sum is not greater than 100\n",
    "- [24, 36, 30, 31, 42] --> sum is greater than 100"
   ]
  },
  {
   "cell_type": "code",
   "execution_count": 31,
   "id": "5d53ba1f",
   "metadata": {
    "id": "5d53ba1f"
   },
   "outputs": [
    {
     "name": "stdout",
     "output_type": "stream",
     "text": [
      "Enter a list of numbers separated by [',']: 24, 36, 30, 31, 42\n",
      "The Sum is greater than 100\n"
     ]
    }
   ],
   "source": [
    "num= input(\"Enter a list of numbers separated by [',']: \")\n",
    "num_list = [int(num) for num in num.split(',')]\n",
    "total = sum(num_list)\n",
    "if total > 100:\n",
    "    print(\"The Sum is greater than 100\")\n",
    "else:\n",
    "    print(\"The Sum is not greater than 100\")\n"
   ]
  }
 ],
 "metadata": {
  "colab": {
   "provenance": []
  },
  "kernelspec": {
   "display_name": "Python 3 (ipykernel)",
   "language": "python",
   "name": "python3"
  },
  "language_info": {
   "codemirror_mode": {
    "name": "ipython",
    "version": 3
   },
   "file_extension": ".py",
   "mimetype": "text/x-python",
   "name": "python",
   "nbconvert_exporter": "python",
   "pygments_lexer": "ipython3",
   "version": "3.9.12"
  }
 },
 "nbformat": 4,
 "nbformat_minor": 5
}
