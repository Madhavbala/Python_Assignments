{
 "cells": [
  {
   "cell_type": "markdown",
   "id": "b462dadb",
   "metadata": {
    "id": "b462dadb"
   },
   "source": [
    "# Iterative Statements\n",
    "- Write solution of each question in the cell given below the corresponsing question."
   ]
  },
  {
   "cell_type": "markdown",
   "id": "f5aefe41",
   "metadata": {
    "id": "f5aefe41"
   },
   "source": [
    "#### 1. Tom and Bob are playing a game of dice. Each time a multiple of two comes up Tom gets a point and if a multiple of 3 comes up bob gets a point. If a multiple of both comes up then a point is deducted from both. Write a program to take a list as input consisting of 10 outcomes of the dice throw. Print the scores of both Tom and bob and the winner."
   ]
  },
  {
   "cell_type": "code",
   "execution_count": 22,
   "id": "WzFaY9Pk53Pl",
   "metadata": {
    "id": "WzFaY9Pk53Pl"
   },
   "outputs": [
    {
     "name": "stdout",
     "output_type": "stream",
     "text": [
      "Enter 10 outcomes separated by spaces: 1 2 3 4 5 6 7 8 9 10\n",
      "Tom's score is : 4 Bob's score is : 2\n",
      "Tom wins!\n"
     ]
    }
   ],
   "source": [
    "def calculate_scores(outcomes):\n",
    "    tom_score = 0\n",
    "    bob_score = 0\n",
    "\n",
    "    for outcome in outcomes:\n",
    "        if outcome % 2 == 0:  # If it's a multiple of 2, Tom gets a point\n",
    "            tom_score += 1\n",
    "        if outcome % 3 == 0:  # If it's a multiple of 3, Bob gets a point\n",
    "            bob_score += 1\n",
    "        if outcome % 2 == 0 and outcome % 3 == 0:  # If it's a multiple of both, deduct a point from both\n",
    "            tom_score -= 1\n",
    "            bob_score -= 1\n",
    "\n",
    "    return tom_score, bob_score\n",
    "\n",
    "outcomes = [int(x) for x in input(\"Enter 10 outcomes separated by spaces: \").split()]\n",
    "tom_score, bob_score = calculate_scores(outcomes)\n",
    "\n",
    "print(f\"Tom's score is : {tom_score} and Bob's score is : {bob_score}\")\n",
    "if tom_score > bob_score:\n",
    "    print(\"Tom wins!\")\n",
    "elif bob_score > tom_score:\n",
    "    print(\"Bob wins!\")\n",
    "else:\n",
    "    print(\"It's a tie!\")"
   ]
  },
  {
   "cell_type": "markdown",
   "id": "57ec6a53",
   "metadata": {
    "id": "57ec6a53"
   },
   "source": [
    "##### 2. Write a program to take a list of 10 numbers as input in single line and find out the largest element."
   ]
  },
  {
   "cell_type": "code",
   "execution_count": 42,
   "id": "scLsG4fkSyUu",
   "metadata": {
    "id": "scLsG4fkSyUu"
   },
   "outputs": [
    {
     "name": "stdout",
     "output_type": "stream",
     "text": [
      "Enter 10 numbers separated by spaces: 1 2 3 4 5 6 7 8 9 10\n",
      "The largest element in the list is: 10\n"
     ]
    }
   ],
   "source": [
    "# Input a list of 10 numbers separated by spaces and convert them to integers\n",
    "input_numbers = input(\"Enter 10 numbers separated by spaces: \").split()\n",
    "input_numbers = [int(x) for x in input_numbers]\n",
    "largest = max(input_numbers)\n",
    "print(f\"The largest element in the list is: {largest}\")"
   ]
  },
  {
   "cell_type": "markdown",
   "id": "ee2cce37",
   "metadata": {
    "id": "ee2cce37"
   },
   "source": [
    "#### 3. Write a program to take a number as input and find out whether it is prime or not."
   ]
  },
  {
   "cell_type": "code",
   "execution_count": 17,
   "id": "td2eirqTZCiE",
   "metadata": {
    "id": "td2eirqTZCiE"
   },
   "outputs": [
    {
     "name": "stdout",
     "output_type": "stream",
     "text": [
      "Enter the Number : 5\n",
      "5 It is Prime Number\n"
     ]
    }
   ],
   "source": [
    "num = int(input(\"Enter the Number : \"))\n",
    "if num % 2 == 0:\n",
    "    print(num,\"It is Not a Prime Number\")\n",
    "else:\n",
    "    print(num,\"It is Prime Number\")"
   ]
  },
  {
   "cell_type": "markdown",
   "id": "07d5a484",
   "metadata": {
    "id": "07d5a484"
   },
   "source": [
    "#### 4. Take a list and a number as input, print all consecutive pairs of two numbers from the list having sum equal to the given number."
   ]
  },
  {
   "cell_type": "code",
   "execution_count": 14,
   "id": "e3acd75f",
   "metadata": {
    "id": "e3acd75f"
   },
   "outputs": [
    {
     "name": "stdout",
     "output_type": "stream",
     "text": [
      "Enter a list of numbers separated by spaces: 2 34 4 5 6 7 8\n",
      "Enter the target number: 10\n",
      "Pair: (2, 8)\n",
      "Pair: (4, 6)\n"
     ]
    }
   ],
   "source": [
    "# Input a list of numbers\n",
    "input_list = input(\"Enter a list of numbers separated by spaces: \").split()\n",
    "input_list = [int(x) for x in input_list]\n",
    "\n",
    "# Input the target number\n",
    "target_number = int(input(\"Enter the target number: \"))\n",
    "\n",
    "# Iterate through the list to find pairs\n",
    "pairs_found = False\n",
    "\n",
    "for i in range(len(input_list) - 1):\n",
    "    for j in range(i + 1, len(input_list)):\n",
    "        if input_list[i] + input_list[j] == target_number:\n",
    "            print(f\"Pair: ({input_list[i]}, {input_list[j]})\")\n",
    "            pairs_found = True\n",
    "\n",
    "if not pairs_found:\n",
    "    print(f\"No pairs found with a sum of {target_number}\")\n"
   ]
  },
  {
   "cell_type": "markdown",
   "id": "d2bc68d1",
   "metadata": {
    "id": "d2bc68d1"
   },
   "source": [
    "#### 5. Take a string as input and find out the number of words with even length and number of words with odd length."
   ]
  },
  {
   "cell_type": "code",
   "execution_count": 48,
   "id": "P1HffxgLZk6C",
   "metadata": {
    "id": "P1HffxgLZk6C"
   },
   "outputs": [
    {
     "name": "stdout",
     "output_type": "stream",
     "text": [
      "Enter the Stings seprate by spaces : ma mad madd maddy\n",
      "ma is Even\n",
      "mad is Odd\n",
      "madd is Even\n",
      "maddy is Odd\n"
     ]
    }
   ],
   "source": [
    "input_string = input(\"Enter the Stings seprate by spaces : \").split()\n",
    "for i in input_string:\n",
    "    if len(i) % 2 == 0:\n",
    "        print(f\"{i} is Even\")\n",
    "    else:\n",
    "        print(f\"{i} is Odd\")"
   ]
  },
  {
   "cell_type": "markdown",
   "id": "41da36a0",
   "metadata": {
    "id": "41da36a0"
   },
   "source": []
  },
  {
   "cell_type": "markdown",
   "id": "9bc04f36",
   "metadata": {
    "id": "9bc04f36"
   },
   "source": [
    "#### 6. Write a program to sort a given list using selection sort algorithm. (study selection sort and implement)"
   ]
  },
  {
   "cell_type": "code",
   "execution_count": 53,
   "id": "3abb8c1e",
   "metadata": {
    "id": "3abb8c1e"
   },
   "outputs": [
    {
     "name": "stdout",
     "output_type": "stream",
     "text": [
      "Enter a list of numbers separated by spaces: 1 2 3 4 3 2 1 5\n",
      "Sorted list: [1, 1, 2, 2, 3, 3, 4, 5]\n"
     ]
    }
   ],
   "source": [
    "input_list = [int(x) for x in input(\"Enter a list of numbers separated by spaces: \").split()]\n",
    "n = len(input_list)\n",
    "# Selection sort algorithm\n",
    "for i in range(n):\n",
    "    min_index = i\n",
    "    # Find the minimum element in the unsorted portion of the list\n",
    "    for j in range(i + 1, n):\n",
    "        if input_list[j] < input_list[min_index]:\n",
    "            min_index = j\n",
    "    input_list[i], input_list[min_index] = input_list[min_index], input_list[i]\n",
    "\n",
    "# Print the sorted list\n",
    "print(\"Sorted list:\", input_list)\n"
   ]
  },
  {
   "cell_type": "markdown",
   "id": "d2cf1bab",
   "metadata": {
    "id": "d2cf1bab"
   },
   "source": [
    "#### 7. Write a program to sort a given list using bubble sort algorithm. (Study bubble sort and implement)"
   ]
  },
  {
   "cell_type": "code",
   "execution_count": 54,
   "id": "OJAUtZLmyvMk",
   "metadata": {
    "id": "OJAUtZLmyvMk"
   },
   "outputs": [
    {
     "name": "stdout",
     "output_type": "stream",
     "text": [
      "Enter a list of numbers separated by spaces: 1 2 3 2 1 2 3 4 2\n",
      "Sorted list: [1, 1, 2, 2, 2, 2, 3, 3, 4]\n"
     ]
    }
   ],
   "source": [
    "input_list = [int(x) for x in input(\"Enter a list of numbers separated by spaces: \").split()]\n",
    "n = len(input_list)\n",
    "# Bubble sort algorithm\n",
    "for i in range(n):\n",
    "    swapped = False  # Flag to optimize the algorithm\n",
    "    # Traverse through the list and compare adjacent elements\n",
    "    for j in range(0, n - i - 1):\n",
    "        if input_list[j] > input_list[j + 1]:\n",
    "            # Swap the elements if they are in the wrong order\n",
    "            input_list[j], input_list[j + 1] = input_list[j + 1], input_list[j]\n",
    "            swapped = True\n",
    "    \n",
    "    # If no two elements were swapped in the inner loop, the list is sorted\n",
    "    if not swapped:\n",
    "        break\n",
    "\n",
    "# Print the sorted list\n",
    "print(\"Sorted list:\", input_list)"
   ]
  },
  {
   "cell_type": "markdown",
   "id": "1910df79",
   "metadata": {
    "id": "1910df79"
   },
   "source": [
    "#### 8. Take a string and a word and input. Find the frequenecy of occurrence of the word in the given string. (Without using any inbuilt function)"
   ]
  },
  {
   "cell_type": "code",
   "execution_count": 56,
   "id": "c50d4a3c",
   "metadata": {
    "id": "c50d4a3c"
   },
   "outputs": [
    {
     "name": "stdout",
     "output_type": "stream",
     "text": [
      "Enter a string: mad mad madhav\n",
      "Enter a word to find its frequency: mad\n",
      "The word 'mad' appears 2 times in the string.\n"
     ]
    }
   ],
   "source": [
    "def count_word_frequency(input_string, word):\n",
    "    input_string = input_string.lower()\n",
    "    word = word.lower()\n",
    "    words = input_string.split()\n",
    "\n",
    "    #counter for word frequency\n",
    "    count = 0\n",
    "    for w in words:\n",
    "        if w == word:\n",
    "            count += 1\n",
    "\n",
    "    return count\n",
    "input_string = input(\"Enter a string: \")\n",
    "\n",
    "# Input a word to find its frequency\n",
    "word_to_find = input(\"Enter a word to find its frequency: \")\n",
    "\n",
    "# Find and print the frequency of the word\n",
    "frequency = count_word_frequency(input_string, word_to_find)\n",
    "print(f\"The word '{word_to_find}' appears {frequency} times in the string.\")\n"
   ]
  },
  {
   "cell_type": "markdown",
   "id": "b05f15de",
   "metadata": {
    "id": "b05f15de"
   },
   "source": [
    "#### 9. Write a program to print the following pattern: "
   ]
  },
  {
   "cell_type": "code",
   "execution_count": 25,
   "id": "4b25f1cb",
   "metadata": {},
   "outputs": [
    {
     "name": "stdout",
     "output_type": "stream",
     "text": [
      "\n"
     ]
    }
   ],
   "source": [
    "'''\n",
    "5 4 3 2 1\n",
    "  4 3 2 1\n",
    "    3 2 1\n",
    "      2 1\n",
    "        1\n",
    "'''\n",
    "print()"
   ]
  },
  {
   "cell_type": "code",
   "execution_count": 23,
   "id": "j7lsHqTI1-ZY",
   "metadata": {
    "id": "j7lsHqTI1-ZY"
   },
   "outputs": [
    {
     "name": "stdout",
     "output_type": "stream",
     "text": [
      "5 4 3 2 1\n",
      "  4 3 2 1\n",
      "    3 2 1\n",
      "      2 1\n",
      "        1\n"
     ]
    }
   ],
   "source": [
    "n = 5  # Define the number of rows\n",
    "\n",
    "for i in range(n, 0, -1):\n",
    "    for j in range(n, i, -1):\n",
    "        print(\"  \", end=\"\")\n",
    "    for j in range(i, 0, -1):\n",
    "        if j == 1:\n",
    "            print(j, end=\"\")\n",
    "        else:\n",
    "            \n",
    "            print(j, end=\" \")\n",
    "    \n",
    "    print()  # Move to the next line\n"
   ]
  },
  {
   "cell_type": "markdown",
   "id": "279b94c8",
   "metadata": {
    "id": "279b94c8"
   },
   "source": [
    "#### 10. Write a program to print the following pattern:"
   ]
  },
  {
   "cell_type": "code",
   "execution_count": null,
   "id": "af2c05e5",
   "metadata": {
    "colab": {
     "base_uri": "https://localhost:8080/"
    },
    "executionInfo": {
     "elapsed": 513,
     "status": "ok",
     "timestamp": 1676753758009,
     "user": {
      "displayName": "Malathi V",
      "userId": "05981803588813056384"
     },
     "user_tz": -330
    },
    "id": "af2c05e5",
    "outputId": "a05270a6-9f54-461e-a195-d46c556e048d"
   },
   "outputs": [
    {
     "name": "stdout",
     "output_type": "stream",
     "text": [
      "\n"
     ]
    }
   ],
   "source": [
    "'''\n",
    "5 4 3 2 1\n",
    "4 3 2 1\n",
    "3 2 1\n",
    "2 1\n",
    "1\n",
    "'''\n",
    "print()"
   ]
  },
  {
   "cell_type": "code",
   "execution_count": 28,
   "id": "a6502c4f",
   "metadata": {
    "id": "a6502c4f"
   },
   "outputs": [
    {
     "name": "stdout",
     "output_type": "stream",
     "text": [
      "5 4 3 2 1\n",
      "4 3 2 1\n",
      "3 2 1\n",
      "2 1\n",
      "1\n"
     ]
    }
   ],
   "source": [
    "n = 5  # Define the number of rows\n",
    "\n",
    "for i in range(n, 0, -1):\n",
    "    for j in range(i, n ,-1):\n",
    "        print(\"  \", end=\"\")\n",
    "    for j in range(i, 0, -1):\n",
    "        if j == 1:\n",
    "            print(j, end=\"\")\n",
    "        else:\n",
    "            \n",
    "            print(j, end=\" \")\n",
    "    \n",
    "    print()  # Move to the next line"
   ]
  }
 ],
 "metadata": {
  "colab": {
   "provenance": []
  },
  "kernelspec": {
   "display_name": "Python 3 (ipykernel)",
   "language": "python",
   "name": "python3"
  },
  "language_info": {
   "codemirror_mode": {
    "name": "ipython",
    "version": 3
   },
   "file_extension": ".py",
   "mimetype": "text/x-python",
   "name": "python",
   "nbconvert_exporter": "python",
   "pygments_lexer": "ipython3",
   "version": "3.9.7"
  }
 },
 "nbformat": 4,
 "nbformat_minor": 5
}
