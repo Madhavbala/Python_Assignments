{
 "cells": [
  {
   "cell_type": "code",
   "execution_count": 1,
   "id": "6e38ea1f-030d-4dd7-8d6f-2c117501cba8",
   "metadata": {
    "tags": []
   },
   "outputs": [
    {
     "name": "stdout",
     "output_type": "stream",
     "text": [
      "Requirement already satisfied: mysql-connector-python in c:\\users\\systems\\anaconda3\\lib\\site-packages (8.1.0)Note: you may need to restart the kernel to use updated packages.\n",
      "\n",
      "Requirement already satisfied: protobuf<=4.21.12,>=4.21.1 in c:\\users\\systems\\anaconda3\\lib\\site-packages (from mysql-connector-python) (4.21.12)\n"
     ]
    }
   ],
   "source": [
    "pip install mysql-connector-python"
   ]
  },
  {
   "cell_type": "markdown",
   "id": "78ae0b00-4fd2-47cd-9248-26552b21b29f",
   "metadata": {},
   "source": [
    "### Question 1"
   ]
  },
  {
   "cell_type": "code",
   "execution_count": null,
   "id": "4bfc129c-4eb2-49d6-bb1f-eb580260fbb7",
   "metadata": {},
   "outputs": [],
   "source": [
    "import mysql.connector"
   ]
  },
  {
   "cell_type": "code",
   "execution_count": 4,
   "id": "e4facf95-5320-400c-b7cb-1aaaad837b48",
   "metadata": {
    "tags": []
   },
   "outputs": [],
   "source": [
    "mydb = mysql.connector.connect(\n",
    "    host=\"localhost\",\n",
    "    user=\"root\",\n",
    "    password=\"Evil@12345\"\n",
    ")\n",
    "mycursor = mydb.cursor()"
   ]
  },
  {
   "cell_type": "code",
   "execution_count": 7,
   "id": "1d771f76-3a82-424f-b600-10ba30c6b6d4",
   "metadata": {
    "tags": []
   },
   "outputs": [],
   "source": [
    "mycursor.execute(\"DROP DATABASE AssignmentScoresDB\")"
   ]
  },
  {
   "cell_type": "code",
   "execution_count": 8,
   "id": "e2568320-f45e-47aa-8b82-2fc8a3771d81",
   "metadata": {
    "tags": []
   },
   "outputs": [],
   "source": [
    "mycursor.execute(\"CREATE DATABASE AssignmentScoresDB\")\n",
    "mycursor.execute(\"USE AssignmentScoresDB\")\n",
    "\n",
    "# Create a table to store assignment scores\n",
    "create_table_query = \"\"\"\n",
    "CREATE TABLE AssignmentScores (\n",
    "    StudentID INT PRIMARY KEY,\n",
    "    StudentName VARCHAR(50),\n",
    "    Assignment1 INT,\n",
    "    Assignment2 INT,\n",
    "    Assignment3 INT,\n",
    "    Assignment4 INT,\n",
    "    Assignment5 INT\n",
    ");\n",
    "\"\"\"\n",
    "mycursor.execute(create_table_query)"
   ]
  },
  {
   "cell_type": "code",
   "execution_count": 9,
   "id": "8618ec79-b96c-4b97-831f-467d72bf93cf",
   "metadata": {
    "tags": []
   },
   "outputs": [],
   "source": [
    "insert_data_query = \"\"\"\n",
    "INSERT INTO AssignmentScores (StudentID, StudentName, Assignment1, Assignment2, Assignment3, Assignment4, Assignment5)\n",
    "VALUES\n",
    "    (1, 'Aakash', 90, 85, 78, 92, 88),\n",
    "    (2, 'Mathumitha', 88, 92, 76, 85, 90),\n",
    "    (3, 'Madhavan', 85, 80, 92, 89, 91),\n",
    "    (4, 'Saranya', 92, 89, 93, 94, 87),\n",
    "    (5, 'Vijay', 89, 78, 86, 90, 84),\n",
    "    (6, 'Arnold', 91, 87, 90, 92, 89);\n",
    "\"\"\"\n",
    "\n",
    "mycursor.execute(insert_data_query)\n",
    "mydb.commit()"
   ]
  },
  {
   "cell_type": "code",
   "execution_count": 10,
   "id": "a5c4af22-4fc3-4304-8867-3a52a496b98e",
   "metadata": {
    "tags": []
   },
   "outputs": [],
   "source": [
    "calculate_total_score_query = \"\"\"\n",
    "SELECT StudentID, StudentName, \n",
    "    Assignment1 + Assignment2 + Assignment3 + Assignment4 + Assignment5 AS TotalScore\n",
    "FROM AssignmentScores\n",
    "ORDER BY TotalScore DESC\n",
    "LIMIT 1;\n",
    "\"\"\"\n",
    "\n",
    "mycursor.execute(calculate_total_score_query)\n",
    "topper_student = mycursor.fetchone()"
   ]
  },
  {
   "cell_type": "code",
   "execution_count": 14,
   "id": "9d12b472-9efc-4d88-8879-44f748376255",
   "metadata": {
    "tags": []
   },
   "outputs": [
    {
     "name": "stdout",
     "output_type": "stream",
     "text": [
      "The topper student is Saranya StudentID : 4 with a total score of 455\n"
     ]
    }
   ],
   "source": [
    "if topper_student:\n",
    "    student_id, student_name, total_score = topper_student\n",
    "    print(f\"The topper student is {student_name} StudentID : {student_id} with a total score of {total_score}\")\n",
    "else:\n",
    "    print(\"No data found.\")\n",
    "mydb.commit()\n",
    "mydb.close()"
   ]
  },
  {
   "cell_type": "markdown",
   "id": "c2c2c307-142b-4cee-b1eb-823755604620",
   "metadata": {},
   "source": [
    "### Question 2"
   ]
  },
  {
   "cell_type": "code",
   "execution_count": 41,
   "id": "378f5166-b35c-4545-a475-cc44f3916d9f",
   "metadata": {
    "tags": []
   },
   "outputs": [],
   "source": [
    "import mysql.connector"
   ]
  },
  {
   "cell_type": "code",
   "execution_count": 42,
   "id": "fde80188-deea-49d2-86a7-79e39734c727",
   "metadata": {
    "tags": []
   },
   "outputs": [],
   "source": [
    "mydb = mysql.connector.connect(user = 'root',\n",
    "                               password = 'Evil@12345',\n",
    "                               host = 'localhost')\n",
    "mycursor = mydb.cursor()"
   ]
  },
  {
   "cell_type": "code",
   "execution_count": 43,
   "id": "353f65c6-5118-4a9a-b40e-785d30c712c6",
   "metadata": {
    "tags": []
   },
   "outputs": [],
   "source": [
    "mycursor.execute(\"DROP DATABASE Employee_Assignment\")"
   ]
  },
  {
   "cell_type": "code",
   "execution_count": 44,
   "id": "e790d020-b5ec-48a3-a989-1b0b5040d60b",
   "metadata": {
    "tags": []
   },
   "outputs": [],
   "source": [
    "mycursor.execute(\"Create DATABASE Employee_Assignment\")\n",
    "mycursor.execute(\"USE Employee_Assignment\")"
   ]
  },
  {
   "cell_type": "code",
   "execution_count": 45,
   "id": "6f7a7adb-104c-4e4b-8056-d1d93238fb52",
   "metadata": {
    "tags": []
   },
   "outputs": [],
   "source": [
    "create_query = '''CREATE TABLE Employee_Assignment (\n",
    "    emp_id INT PRIMARY KEY,\n",
    "    f_name VARCHAR(20) NOT NULL,\n",
    "    l_name VARCHAR(20) NOT NULL,\n",
    "    age INT NOT NULL,\n",
    "    gender VARCHAR(20) NOT NULL,\n",
    "    salary INT NOT NULL,\n",
    "    city VARCHAR(20) NOT NULL,\n",
    "    dept VARCHAR(20) NOT NULL\n",
    ")'''\n",
    "mycursor.execute(create_query)"
   ]
  },
  {
   "cell_type": "code",
   "execution_count": 46,
   "id": "bf58d8ae-5e64-48f2-9e93-4c44a60fb440",
   "metadata": {
    "tags": []
   },
   "outputs": [],
   "source": [
    "insert_query = \"INSERT INTO Employee_Assignment (emp_id, f_name, l_name, age, gender, salary, city, dept) VALUES (%s, %s, %s, %s, %s, %s, %s, %s)\"\n",
    "\n",
    "# List of tuples with data to be inserted\n",
    "data = [\n",
    "    (1, \"Madhav\", \"Bala\", 30, \"Male\", 50000, \"Japan\", \"HR\"),\n",
    "    (2, \"Aakash\", \"Nair\", 30, \"Male\", 50000, \"Vali\", \"HR\"),\n",
    "    (3, \"Mathu\", \"Mitha\", 35, \"Female\", 60000, \"Kilpauk\", \"Finance\"),\n",
    "    (4, \"Ajith\", \"Kumar\", 43, \"Male\", 6000, \"Island\", \"IT\"),\n",
    "    (5, \"Vijay\", \"Thalapathy\", 20, \"Male\", 8000, \"Vada Chennai\", \"Tester\"),\n",
    "    (6, \"Arold\", \"kumar\", 35, \"Male\", 7000, \"Hell\", \"Developer\")\n",
    "]\n",
    "mycursor.executemany(insert_query, data)"
   ]
  },
  {
   "cell_type": "code",
   "execution_count": 47,
   "id": "816b1cff-178a-412a-aec2-123b477770c5",
   "metadata": {
    "tags": []
   },
   "outputs": [],
   "source": [
    "update_query = \"UPDATE Employee_Assignment SET salary = %s WHERE emp_id = %s\"\n",
    "update_data = (55000, 1)\n",
    "mycursor.execute(update_query, update_data)"
   ]
  },
  {
   "cell_type": "code",
   "execution_count": 48,
   "id": "b117a436-62c9-4fe1-b479-c978421a8edc",
   "metadata": {
    "tags": []
   },
   "outputs": [],
   "source": [
    "delete_query = \"DELETE FROM Employee_Assignment WHERE emp_id = 6\"\n",
    "mycursor.execute(delete_query)\n",
    "mydb.commit()\n",
    "mydb.close()"
   ]
  },
  {
   "cell_type": "code",
   "execution_count": null,
   "id": "c62044c4-483c-4d82-a2d9-6d39b5b27b3b",
   "metadata": {},
   "outputs": [],
   "source": []
  }
 ],
 "metadata": {
  "kernelspec": {
   "display_name": "Python 3 (ipykernel)",
   "language": "python",
   "name": "python3"
  },
  "language_info": {
   "codemirror_mode": {
    "name": "ipython",
    "version": 3
   },
   "file_extension": ".py",
   "mimetype": "text/x-python",
   "name": "python",
   "nbconvert_exporter": "python",
   "pygments_lexer": "ipython3",
   "version": "3.11.4"
  }
 },
 "nbformat": 4,
 "nbformat_minor": 5
}
